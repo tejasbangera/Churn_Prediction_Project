{
  "cells": [
    {
      "cell_type": "markdown",
      "source": [
        "# Automated ML\n",
        "\n",
        "TODO: Import Dependencies. In the cell below, import all the dependencies that you will need to complete the project."
      ],
      "metadata": {}
    },
    {
      "cell_type": "code",
      "source": [
        "import azureml.core\n",
        "from azureml.core import Dataset\n",
        "from azureml.core.experiment import Experiment\n",
        "from azureml.core.workspace import Workspace\n",
        "from azureml.core.compute import ComputeTarget, AmlCompute\n",
        "from azureml.core.compute_target import ComputeTargetException\n",
        "from azureml.data.dataset_factory import TabularDatasetFactory\n",
        "from azureml.widgets import RunDetails\n",
        "from azureml.data.datapath import DataPath\n",
        "from azureml.train.automl import AutoMLConfig\n",
        "from azureml.interpret import ExplanationClient\n",
        "from azureml.automl.core.featurization import FeaturizationConfig\n",
        "import pandas as pd\n",
        "import logging\n",
        "from matplotlib import pyplot as plt\n",
        "import train\n",
        "import joblib \n",
        "import os"
      ],
      "outputs": [],
      "execution_count": 1,
      "metadata": {
        "gather": {
          "logged": 1618739474938
        },
        "jupyter": {
          "outputs_hidden": false,
          "source_hidden": false
        },
        "nteract": {
          "transient": {
            "deleting": false
          }
        }
      }
    },
    {
      "cell_type": "markdown",
      "source": [
        "## Dataset\n",
        "\n",
        "### Overview\n",
        "What is Churn?\n",
        "Churn is a process in which customers stop or plan to stop using services/contracts of a company. So churn prediction is about identifying customers who are likely to cancel their services/contracts soon. Then companies can offer discounts or other benefits on these services and users can continue with their services.\n",
        "\n",
        "Naturally, we can use the past data about customers who churned and based on that we will create a model for identifying present customers who are about to go away. This is a binary classification problem. The target variable that we want to predict is categorical and has only two possible outcomes: churn or not churn.\n",
        "\n",
        "\n",
        "### Task\n",
        "\n",
        "Some of our customers are churning. They no longer are using our services and going to a different provider. We would like to prevent that from happening. For that, we develop a system for identifying these customers and offer them an incentive to stay. We need to be able to interpret the predictions of the model. \n",
        "\n",
        "Firstly we will do some EDA (Exploratory data analysis) in which we identify which features are important in our data and \n",
        "then we split the data into train and test so we can test our models and then we deploy our best model.\n",
        "According to the description, this dataset has the following information:\n",
        "\n",
        "Services of the customers — phone; multiple lines; internet; tech support and extra services such as online security, backup, device protection, and TV streaming\n",
        "\n",
        "Account information — how long they have been clients, type of contract, type of payment method\n",
        "\n",
        "Charges — how much the client was charged in the past month and in total\n",
        "\n",
        "Demographic information — gender, age, and whether they have dependents or a partner\n",
        "\n",
        "Churn — yes/no, whether the customer left the company within the past month\n",
        "\n",
        "The label \"status\" tells us whether a student was placed or not and this is the target column for predictions.\n",
        "\n",
        "\n"
      ],
      "metadata": {}
    },
    {
      "cell_type": "code",
      "source": [
        "ws = Workspace.from_config()\n",
        "print('Workspace name: ' + ws.name, \n",
        "      'Azure region: ' + ws.location, \n",
        "      'Subscription id: ' + ws.subscription_id, \n",
        "      'Resource group: ' + ws.resource_group, sep = '\\n')\n"
      ],
      "outputs": [
        {
          "output_type": "stream",
          "name": "stdout",
          "text": [
            "Workspace name: quick-starts-ws-143004\n",
            "Azure region: southcentralus\n",
            "Subscription id: 1b944a9b-fdae-4f97-aeb1-b7eea0beac53\n",
            "Resource group: aml-quickstarts-143004\n"
          ]
        }
      ],
      "execution_count": 2,
      "metadata": {
        "gather": {
          "logged": 1618739475471
        },
        "jupyter": {
          "outputs_hidden": false,
          "source_hidden": false
        },
        "nteract": {
          "transient": {
            "deleting": false
          }
        }
      }
    },
    {
      "cell_type": "code",
      "source": [
        "# choose a name for experiment\r\n",
        "experiment_name = 'ChurnPrediction'\r\n",
        "\r\n",
        "experiment= Experiment(ws, experiment_name)\r\n",
        "run = experiment.start_logging()"
      ],
      "outputs": [],
      "execution_count": 3,
      "metadata": {
        "collapsed": true,
        "jupyter": {
          "source_hidden": false,
          "outputs_hidden": false
        },
        "nteract": {
          "transient": {
            "deleting": false
          }
        },
        "gather": {
          "logged": 1618739478018
        }
      }
    },
    {
      "cell_type": "code",
      "source": [
        "# Choose a name for your CPU cluster\n",
        "cpu_cluster_name = \"notebook143004\"\n",
        "\n",
        "# Verify that cluster does not exist already\n",
        "try:\n",
        "    compute_target = ComputeTarget(workspace=ws, name=cpu_cluster_name)\n",
        "    print('Found existing cluster, use it.')\n",
        "except ComputeTargetException:\n",
        "    compute_config = AmlCompute.provisioning_configuration(vm_size='STANDARD_DS3_V2',\n",
        "                                                           max_nodes=6)\n",
        "    compute_target = ComputeTarget.create(ws, cpu_cluster_name, compute_config)\n",
        "\n",
        "compute_target.wait_for_completion(show_output=True)"
      ],
      "outputs": [
        {
          "output_type": "stream",
          "name": "stdout",
          "text": [
            "Found existing cluster, use it.\n",
            "\n",
            "Running\n"
          ]
        }
      ],
      "execution_count": 4,
      "metadata": {
        "gather": {
          "logged": 1618739483822
        }
      }
    },
    {
      "cell_type": "code",
      "source": [
        "\n",
        "# Loading dataset using url\n",
        "# NOTE: update the key to match the dataset name\n",
        "found = False\n",
        "key = \"Churn Prediction Dataset\"\n",
        "description_text = \"Churn Prediction for Capstone Project\"\n",
        "\n",
        "if key in ws.datasets.keys(): \n",
        "        found = True\n",
        "        ds = ws.datasets[key] \n",
        "\n",
        "if not found:\n",
        "        # Create Dataset and register it into Workspace\n",
        "        example_data = 'https://raw.githubusercontent.com/tejasbangera/Udacity-Captstone-Project/main/WA_Fn-UseC_-Telco-Customer-Churn.csv?token=AO3MXNWWA5PXCKIPPCWWT33AO7TLY'\n",
        "        ds = TabularDatasetFactory.from_delimited_files(path = example_data)        \n",
        "        #Register Dataset in Workspace\n",
        "        ds = ds.register(workspace=ws,name=key,description=description_text)"
      ],
      "outputs": [],
      "execution_count": 5,
      "metadata": {
        "gather": {
          "logged": 1618739484369
        }
      }
    },
    {
      "cell_type": "code",
      "source": [
        "df=ds.to_pandas_dataframe()\n",
        "df.head()"
      ],
      "outputs": [
        {
          "output_type": "execute_result",
          "execution_count": 6,
          "data": {
            "text/plain": "   customerID  gender  SeniorCitizen  Partner  Dependents  tenure  \\\n0  7590-VHVEG  Female              0     True       False       1   \n1  5575-GNVDE    Male              0    False       False      34   \n2  3668-QPYBK    Male              0    False       False       2   \n3  7795-CFOCW    Male              0    False       False      45   \n4  9237-HQITU  Female              0    False       False       2   \n\n   PhoneService     MultipleLines InternetService OnlineSecurity  ...  \\\n0         False  No phone service             DSL             No  ...   \n1          True                No             DSL            Yes  ...   \n2          True                No             DSL            Yes  ...   \n3         False  No phone service             DSL            Yes  ...   \n4          True                No     Fiber optic             No  ...   \n\n  DeviceProtection TechSupport StreamingTV StreamingMovies        Contract  \\\n0               No          No          No              No  Month-to-month   \n1              Yes          No          No              No        One year   \n2               No          No          No              No  Month-to-month   \n3              Yes         Yes          No              No        One year   \n4               No          No          No              No  Month-to-month   \n\n  PaperlessBilling              PaymentMethod MonthlyCharges  TotalCharges  \\\n0             True           Electronic check          29.85         29.85   \n1            False               Mailed check          56.95       1889.50   \n2             True               Mailed check          53.85        108.15   \n3            False  Bank transfer (automatic)          42.30       1840.75   \n4             True           Electronic check          70.70        151.65   \n\n   Churn  \n0  False  \n1  False  \n2   True  \n3  False  \n4   True  \n\n[5 rows x 21 columns]",
            "text/html": "<div>\n<style scoped>\n    .dataframe tbody tr th:only-of-type {\n        vertical-align: middle;\n    }\n\n    .dataframe tbody tr th {\n        vertical-align: top;\n    }\n\n    .dataframe thead th {\n        text-align: right;\n    }\n</style>\n<table border=\"1\" class=\"dataframe\">\n  <thead>\n    <tr style=\"text-align: right;\">\n      <th></th>\n      <th>customerID</th>\n      <th>gender</th>\n      <th>SeniorCitizen</th>\n      <th>Partner</th>\n      <th>Dependents</th>\n      <th>tenure</th>\n      <th>PhoneService</th>\n      <th>MultipleLines</th>\n      <th>InternetService</th>\n      <th>OnlineSecurity</th>\n      <th>...</th>\n      <th>DeviceProtection</th>\n      <th>TechSupport</th>\n      <th>StreamingTV</th>\n      <th>StreamingMovies</th>\n      <th>Contract</th>\n      <th>PaperlessBilling</th>\n      <th>PaymentMethod</th>\n      <th>MonthlyCharges</th>\n      <th>TotalCharges</th>\n      <th>Churn</th>\n    </tr>\n  </thead>\n  <tbody>\n    <tr>\n      <th>0</th>\n      <td>7590-VHVEG</td>\n      <td>Female</td>\n      <td>0</td>\n      <td>True</td>\n      <td>False</td>\n      <td>1</td>\n      <td>False</td>\n      <td>No phone service</td>\n      <td>DSL</td>\n      <td>No</td>\n      <td>...</td>\n      <td>No</td>\n      <td>No</td>\n      <td>No</td>\n      <td>No</td>\n      <td>Month-to-month</td>\n      <td>True</td>\n      <td>Electronic check</td>\n      <td>29.85</td>\n      <td>29.85</td>\n      <td>False</td>\n    </tr>\n    <tr>\n      <th>1</th>\n      <td>5575-GNVDE</td>\n      <td>Male</td>\n      <td>0</td>\n      <td>False</td>\n      <td>False</td>\n      <td>34</td>\n      <td>True</td>\n      <td>No</td>\n      <td>DSL</td>\n      <td>Yes</td>\n      <td>...</td>\n      <td>Yes</td>\n      <td>No</td>\n      <td>No</td>\n      <td>No</td>\n      <td>One year</td>\n      <td>False</td>\n      <td>Mailed check</td>\n      <td>56.95</td>\n      <td>1889.50</td>\n      <td>False</td>\n    </tr>\n    <tr>\n      <th>2</th>\n      <td>3668-QPYBK</td>\n      <td>Male</td>\n      <td>0</td>\n      <td>False</td>\n      <td>False</td>\n      <td>2</td>\n      <td>True</td>\n      <td>No</td>\n      <td>DSL</td>\n      <td>Yes</td>\n      <td>...</td>\n      <td>No</td>\n      <td>No</td>\n      <td>No</td>\n      <td>No</td>\n      <td>Month-to-month</td>\n      <td>True</td>\n      <td>Mailed check</td>\n      <td>53.85</td>\n      <td>108.15</td>\n      <td>True</td>\n    </tr>\n    <tr>\n      <th>3</th>\n      <td>7795-CFOCW</td>\n      <td>Male</td>\n      <td>0</td>\n      <td>False</td>\n      <td>False</td>\n      <td>45</td>\n      <td>False</td>\n      <td>No phone service</td>\n      <td>DSL</td>\n      <td>Yes</td>\n      <td>...</td>\n      <td>Yes</td>\n      <td>Yes</td>\n      <td>No</td>\n      <td>No</td>\n      <td>One year</td>\n      <td>False</td>\n      <td>Bank transfer (automatic)</td>\n      <td>42.30</td>\n      <td>1840.75</td>\n      <td>False</td>\n    </tr>\n    <tr>\n      <th>4</th>\n      <td>9237-HQITU</td>\n      <td>Female</td>\n      <td>0</td>\n      <td>False</td>\n      <td>False</td>\n      <td>2</td>\n      <td>True</td>\n      <td>No</td>\n      <td>Fiber optic</td>\n      <td>No</td>\n      <td>...</td>\n      <td>No</td>\n      <td>No</td>\n      <td>No</td>\n      <td>No</td>\n      <td>Month-to-month</td>\n      <td>True</td>\n      <td>Electronic check</td>\n      <td>70.70</td>\n      <td>151.65</td>\n      <td>True</td>\n    </tr>\n  </tbody>\n</table>\n<p>5 rows × 21 columns</p>\n</div>"
          },
          "metadata": {}
        }
      ],
      "execution_count": 6,
      "metadata": {
        "gather": {
          "logged": 1618739485828
        }
      }
    },
    {
      "cell_type": "code",
      "source": [
        "from train import clean_data\n",
        "\n",
        "# Use the clean_data function to clean your data.\n",
        "x, y = clean_data(ds)"
      ],
      "outputs": [],
      "execution_count": 7,
      "metadata": {
        "gather": {
          "logged": 1618739485888
        }
      }
    },
    {
      "cell_type": "code",
      "source": [
        "from sklearn.model_selection import train_test_split\n",
        "#create train test split\n",
        "train_x, test_x, train_y, test_y = train_test_split(x,y, test_size=0.2, random_state=200)\n",
        "#join the train_x and train_y to create train dataset\n",
        "train_df=pd.concat([train_x,train_y], axis=1)"
      ],
      "outputs": [],
      "execution_count": 8,
      "metadata": {
        "gather": {
          "logged": 1618739485940
        }
      }
    },
    {
      "cell_type": "markdown",
      "source": [
        "## AutoML Configuration\n",
        "\n",
        "TODO: Explain why you chose the automl settings and cofiguration you used below."
      ],
      "metadata": {}
    },
    {
      "cell_type": "code",
      "source": [
        "\n",
        "# TODO: Put your automl settings here\n",
        "automl_settings = {\n",
        "    \"experiment_timeout_hours\" : 0.3,\n",
        "    \"enable_early_stopping\" : True,\n",
        "    \"iteration_timeout_minutes\": 5,\n",
        "    \"max_concurrent_iterations\": 4,\n",
        "    \"primary_metric\": 'accuracy',\n",
        "    \"featurization\": 'auto',\n",
        "    \"verbosity\": logging.INFO,\n",
        "}\n",
        "\n",
        "# TODO: Put your automl config here\n",
        "automl_config = AutoMLConfig(compute_target=compute_target,\n",
        "                             task = \"classification\",\n",
        "                             training_data= ds,\n",
        "                             label_column_name=\"Churn\",   \n",
        "                             path = \"./project\",\n",
        "                             debug_log = \"automl_errors.log\",\n",
        "                             **automl_settings\n",
        ")"
      ],
      "outputs": [],
      "execution_count": 9,
      "metadata": {
        "gather": {
          "logged": 1618739486176
        },
        "jupyter": {
          "outputs_hidden": false,
          "source_hidden": false
        },
        "nteract": {
          "transient": {
            "deleting": false
          }
        }
      }
    },
    {
      "cell_type": "code",
      "source": [
        "# TODO: Submit your experiment\n",
        "remote_run = experiment.submit(automl_config)"
      ],
      "outputs": [
        {
          "output_type": "stream",
          "name": "stdout",
          "text": [
            "Submitting remote run.\n"
          ]
        },
        {
          "output_type": "display_data",
          "data": {
            "text/plain": "<IPython.core.display.HTML object>",
            "text/html": "<table style=\"width:100%\"><tr><th>Experiment</th><th>Id</th><th>Type</th><th>Status</th><th>Details Page</th><th>Docs Page</th></tr><tr><td>ChurnPrediction</td><td>AutoML_d34bf70f-df84-49cd-9910-4ab4cdb52df4</td><td>automl</td><td>NotStarted</td><td><a href=\"https://ml.azure.com/runs/AutoML_d34bf70f-df84-49cd-9910-4ab4cdb52df4?wsid=/subscriptions/1b944a9b-fdae-4f97-aeb1-b7eea0beac53/resourcegroups/aml-quickstarts-143004/workspaces/quick-starts-ws-143004&amp;tid=660b3398-b80e-49d2-bc5b-ac1dc93b5254\" target=\"_blank\" rel=\"noopener\">Link to Azure Machine Learning studio</a></td><td><a href=\"https://docs.microsoft.com/en-us/python/api/overview/azure/ml/intro?view=azure-ml-py\" target=\"_blank\" rel=\"noopener\">Link to Documentation</a></td></tr></table>"
          },
          "metadata": {}
        }
      ],
      "execution_count": 10,
      "metadata": {
        "gather": {
          "logged": 1618739490414
        },
        "jupyter": {
          "outputs_hidden": false,
          "source_hidden": false
        },
        "nteract": {
          "transient": {
            "deleting": false
          }
        }
      }
    },
    {
      "cell_type": "markdown",
      "source": [
        "## Run Details\n",
        "\n",
        "OPTIONAL: Write about the different models trained and their performance. Why do you think some models did better than others?\n",
        "\n",
        "TODO: In the cell below, use the `RunDetails` widget to show the different experiments."
      ],
      "metadata": {}
    },
    {
      "cell_type": "code",
      "source": [
        "# TODO: Submit your experiment\n",
        "remote_run = experiment.submit(automl_config, show_output =True)"
      ],
      "outputs": [
        {
          "output_type": "stream",
          "name": "stdout",
          "text": [
            "Submitting remote run.\n",
            "Running on remote compute: notebook143004\n"
          ]
        },
        {
          "output_type": "display_data",
          "data": {
            "text/plain": "<IPython.core.display.HTML object>",
            "text/html": "<table style=\"width:100%\"><tr><th>Experiment</th><th>Id</th><th>Type</th><th>Status</th><th>Details Page</th><th>Docs Page</th></tr><tr><td>ChurnPrediction</td><td>AutoML_ebf3bd15-bb5a-4275-86d9-00e01bd94c8e</td><td>automl</td><td>NotStarted</td><td><a href=\"https://ml.azure.com/runs/AutoML_ebf3bd15-bb5a-4275-86d9-00e01bd94c8e?wsid=/subscriptions/1b944a9b-fdae-4f97-aeb1-b7eea0beac53/resourcegroups/aml-quickstarts-143004/workspaces/quick-starts-ws-143004&amp;tid=660b3398-b80e-49d2-bc5b-ac1dc93b5254\" target=\"_blank\" rel=\"noopener\">Link to Azure Machine Learning studio</a></td><td><a href=\"https://docs.microsoft.com/en-us/python/api/overview/azure/ml/intro?view=azure-ml-py\" target=\"_blank\" rel=\"noopener\">Link to Documentation</a></td></tr></table>"
          },
          "metadata": {}
        },
        {
          "output_type": "stream",
          "name": "stdout",
          "text": [
            "\n",
            "Current status: FeaturesGeneration. Generating features for the dataset.\n",
            "Current status: DatasetCrossValidationSplit. Generating individually featurized CV splits.\n",
            "Current status: ModelSelection. Beginning model selection.\n",
            "\n",
            "****************************************************************************************************\n",
            "DATA GUARDRAILS: \n",
            "\n",
            "TYPE:         Cross validation\n",
            "STATUS:       DONE\n",
            "DESCRIPTION:  Each iteration of the trained model was validated through cross-validation.\n",
            "              \n",
            "DETAILS:      \n",
            "+---------------------------------+\n",
            "|Number of folds                  |\n",
            "+=================================+\n",
            "|3                                |\n",
            "+---------------------------------+\n",
            "\n",
            "****************************************************************************************************\n",
            "\n",
            "TYPE:         Class balancing detection\n",
            "STATUS:       PASSED\n",
            "DESCRIPTION:  Your inputs were analyzed, and all classes are balanced in your training data.\n",
            "              Learn more about imbalanced data: https://aka.ms/AutomatedMLImbalancedData\n",
            "\n",
            "****************************************************************************************************\n",
            "\n",
            "TYPE:         Missing feature values imputation\n",
            "STATUS:       DONE\n",
            "DESCRIPTION:  If the missing values are expected, let the run complete. Otherwise cancel the current run and use a script to customize the handling of missing feature values that may be more appropriate based on the data type and business requirement.\n",
            "              Learn more about missing value imputation: https://aka.ms/AutomatedMLFeaturization\n",
            "DETAILS:      \n",
            "+---------------------------------+---------------------------------+---------------------------------+\n",
            "|Column name                      |Missing value count              |Imputation type                  |\n",
            "+=================================+=================================+=================================+\n",
            "|TotalCharges                     |11                               |mean                             |\n",
            "+---------------------------------+---------------------------------+---------------------------------+\n",
            "\n",
            "****************************************************************************************************\n",
            "\n",
            "TYPE:         High cardinality feature detection\n",
            "STATUS:       PASSED\n",
            "DESCRIPTION:  Your inputs were analyzed, and no high cardinality features were detected.\n",
            "              Learn more about high cardinality feature handling: https://aka.ms/AutomatedMLFeaturization\n",
            "\n",
            "****************************************************************************************************\n",
            "\n",
            "****************************************************************************************************\n",
            "ITERATION: The iteration being evaluated.\n",
            "PIPELINE: A summary description of the pipeline being evaluated.\n",
            "DURATION: Time taken for the current iteration.\n",
            "METRIC: The result of computing score on the fitted pipeline.\n",
            "BEST: The best observed score thus far.\n",
            "****************************************************************************************************\n",
            "\n",
            " ITERATION   PIPELINE                                       DURATION      METRIC      BEST\n",
            "         2   MaxAbsScaler RandomForest                      0:06:18       0.7947    0.7947\n",
            "         3   MaxAbsScaler RandomForest                      0:06:23       0.7865    0.7947\n",
            "         0   MaxAbsScaler LightGBM                          0:06:28       0.7934    0.7947\n",
            "         1   MaxAbsScaler XGBoostClassifier                 0:07:07       0.8063    0.8063\n",
            "         4   MaxAbsScaler RandomForest                      0:06:07       0.7502    0.8063\n",
            "         5   MaxAbsScaler RandomForest                      0:06:00       0.7294    0.8063\n",
            "         6   SparseNormalizer XGBoostClassifier             0:06:43       0.7964    0.8063\n",
            "         7   SparseNormalizer XGBoostClassifier             0:06:33       0.7901    0.8063\n",
            "         9   SparseNormalizer XGBoostClassifier             0:05:56       0.7958    0.8063\n",
            "        10                                                  0:05:15          nan    0.8063\n",
            "ERROR: {\n",
            "    \"additional_properties\": {},\n",
            "    \"error\": {\n",
            "        \"additional_properties\": {\n",
            "            \"debugInfo\": null\n",
            "        },\n",
            "        \"code\": \"UserError\",\n",
            "        \"severity\": null,\n",
            "        \"message\": \"Experiment timeout reached, please consider increasing your experiment timeout.\",\n",
            "        \"message_format\": \"Experiment timeout reached, please consider increasing your experiment timeout.\",\n",
            "        \"message_parameters\": {},\n",
            "        \"reference_code\": null,\n",
            "        \"details_uri\": null,\n",
            "        \"target\": null,\n",
            "        \"details\": [],\n",
            "        \"inner_error\": {\n",
            "            \"additional_properties\": {},\n",
            "            \"code\": \"ResourceExhausted\",\n",
            "            \"inner_error\": {\n",
            "                \"additional_properties\": {},\n",
            "                \"code\": \"Timeout\",\n",
            "                \"inner_error\": {\n",
            "                    \"additional_properties\": {},\n",
            "                    \"code\": \"ExperimentTimeoutForIterations\",\n",
            "                    \"inner_error\": null\n",
            "                }\n",
            "            }\n",
            "        }\n",
            "    },\n",
            "    \"correlation\": null,\n",
            "    \"environment\": null,\n",
            "    \"location\": null,\n",
            "    \"time\": {},\n",
            "    \"component_name\": null\n",
            "}\n",
            "        11                                                  0:04:49          nan    0.8063\n",
            "ERROR: {\n",
            "    \"additional_properties\": {},\n",
            "    \"error\": {\n",
            "        \"additional_properties\": {\n",
            "            \"debugInfo\": null\n",
            "        },\n",
            "        \"code\": \"UserError\",\n",
            "        \"severity\": null,\n",
            "        \"message\": \"Experiment timeout reached, please consider increasing your experiment timeout.\",\n",
            "        \"message_format\": \"Experiment timeout reached, please consider increasing your experiment timeout.\",\n",
            "        \"message_parameters\": {},\n",
            "        \"reference_code\": null,\n",
            "        \"details_uri\": null,\n",
            "        \"target\": null,\n",
            "        \"details\": [],\n",
            "        \"inner_error\": {\n",
            "            \"additional_properties\": {},\n",
            "            \"code\": \"ResourceExhausted\",\n",
            "            \"inner_error\": {\n",
            "                \"additional_properties\": {},\n",
            "                \"code\": \"Timeout\",\n",
            "                \"inner_error\": {\n",
            "                    \"additional_properties\": {},\n",
            "                    \"code\": \"ExperimentTimeoutForIterations\",\n",
            "                    \"inner_error\": null\n",
            "                }\n",
            "            }\n",
            "        }\n",
            "    },\n",
            "    \"correlation\": null,\n",
            "    \"environment\": null,\n",
            "    \"location\": null,\n",
            "    \"time\": {},\n",
            "    \"component_name\": null\n",
            "}\n",
            "         8   SparseNormalizer XGBoostClassifier             0:06:00       0.7906    0.8063\n",
            "ERROR: {\n",
            "    \"additional_properties\": {},\n",
            "    \"error\": {\n",
            "        \"additional_properties\": {\n",
            "            \"debugInfo\": null\n",
            "        },\n",
            "        \"code\": \"UserError\",\n",
            "        \"severity\": null,\n",
            "        \"message\": \"Experiment timeout reached, please consider increasing your experiment timeout.\",\n",
            "        \"message_format\": \"Experiment timeout reached, please consider increasing your experiment timeout.\",\n",
            "        \"message_parameters\": {},\n",
            "        \"reference_code\": null,\n",
            "        \"details_uri\": null,\n",
            "        \"target\": null,\n",
            "        \"details\": [],\n",
            "        \"inner_error\": {\n",
            "            \"additional_properties\": {},\n",
            "            \"code\": \"ResourceExhausted\",\n",
            "            \"inner_error\": {\n",
            "                \"additional_properties\": {},\n",
            "                \"code\": \"Timeout\",\n",
            "                \"inner_error\": {\n",
            "                    \"additional_properties\": {},\n",
            "                    \"code\": \"ExperimentTimeoutForIterations\",\n",
            "                    \"inner_error\": null\n",
            "                }\n",
            "            }\n",
            "        }\n",
            "    },\n",
            "    \"correlation\": null,\n",
            "    \"environment\": null,\n",
            "    \"location\": null,\n",
            "    \"time\": {},\n",
            "    \"component_name\": null\n",
            "}\n",
            "        12    VotingEnsemble                                0:05:58       0.8046    0.8063\n",
            "        13    StackEnsemble                                 0:06:12       0.8029    0.8063\n"
          ]
        }
      ],
      "execution_count": 11,
      "metadata": {
        "gather": {
          "logged": 1618741845954
        },
        "jupyter": {
          "outputs_hidden": false,
          "source_hidden": false
        },
        "nteract": {
          "transient": {
            "deleting": false
          }
        }
      }
    },
    {
      "cell_type": "code",
      "source": [
        "RunDetails(remote_run).show()"
      ],
      "outputs": [
        {
          "output_type": "display_data",
          "data": {
            "text/plain": "_AutoMLWidget(widget_settings={'childWidgetDisplay': 'popup', 'send_telemetry': False, 'log_level': 'INFO', 's…",
            "application/vnd.jupyter.widget-view+json": {
              "version_major": 2,
              "version_minor": 0,
              "model_id": "41de0b0f48994404a21140b99891ca5d"
            }
          },
          "metadata": {}
        },
        {
          "output_type": "display_data",
          "data": {
            "application/aml.mini.widget.v1": "{\"status\": \"Completed\", \"workbench_run_details_uri\": \"https://ml.azure.com/runs/AutoML_ebf3bd15-bb5a-4275-86d9-00e01bd94c8e?wsid=/subscriptions/1b944a9b-fdae-4f97-aeb1-b7eea0beac53/resourcegroups/aml-quickstarts-143004/workspaces/quick-starts-ws-143004&tid=660b3398-b80e-49d2-bc5b-ac1dc93b5254\", \"run_id\": \"AutoML_ebf3bd15-bb5a-4275-86d9-00e01bd94c8e\", \"run_properties\": {\"run_id\": \"AutoML_ebf3bd15-bb5a-4275-86d9-00e01bd94c8e\", \"created_utc\": \"2021-04-18T09:51:31.785023Z\", \"properties\": {\"num_iterations\": \"1000\", \"training_type\": \"TrainFull\", \"acquisition_function\": \"EI\", \"primary_metric\": \"accuracy\", \"train_split\": \"0\", \"acquisition_parameter\": \"0\", \"num_cross_validation\": null, \"target\": \"notebook143004\", \"AMLSettingsJsonString\": \"{\\\"path\\\":null,\\\"name\\\":\\\"ChurnPrediction\\\",\\\"subscription_id\\\":\\\"1b944a9b-fdae-4f97-aeb1-b7eea0beac53\\\",\\\"resource_group\\\":\\\"aml-quickstarts-143004\\\",\\\"workspace_name\\\":\\\"quick-starts-ws-143004\\\",\\\"region\\\":\\\"southcentralus\\\",\\\"compute_target\\\":\\\"notebook143004\\\",\\\"spark_service\\\":null,\\\"azure_service\\\":\\\"remote\\\",\\\"many_models\\\":false,\\\"pipeline_fetch_max_batch_size\\\":1,\\\"enable_batch_run\\\":false,\\\"enable_run_restructure\\\":false,\\\"iterations\\\":1000,\\\"primary_metric\\\":\\\"accuracy\\\",\\\"task_type\\\":\\\"classification\\\",\\\"data_script\\\":null,\\\"test_size\\\":0.0,\\\"validation_size\\\":0.0,\\\"n_cross_validations\\\":null,\\\"y_min\\\":null,\\\"y_max\\\":null,\\\"num_classes\\\":null,\\\"featurization\\\":\\\"auto\\\",\\\"_ignore_package_version_incompatibilities\\\":false,\\\"is_timeseries\\\":false,\\\"max_cores_per_iteration\\\":1,\\\"max_concurrent_iterations\\\":4,\\\"iteration_timeout_minutes\\\":5,\\\"mem_in_mb\\\":null,\\\"enforce_time_on_windows\\\":false,\\\"experiment_timeout_minutes\\\":18,\\\"experiment_exit_score\\\":null,\\\"whitelist_models\\\":null,\\\"blacklist_algos\\\":[\\\"TensorFlowLinearClassifier\\\",\\\"TensorFlowDNN\\\"],\\\"supported_models\\\":[\\\"TensorFlowDNN\\\",\\\"BernoulliNaiveBayes\\\",\\\"XGBoostClassifier\\\",\\\"TensorFlowLinearClassifier\\\",\\\"LogisticRegression\\\",\\\"GradientBoosting\\\",\\\"SVM\\\",\\\"MultinomialNaiveBayes\\\",\\\"SGD\\\",\\\"RandomForest\\\",\\\"LightGBM\\\",\\\"AveragedPerceptronClassifier\\\",\\\"DecisionTree\\\",\\\"LinearSVM\\\",\\\"ExtremeRandomTrees\\\",\\\"KNN\\\"],\\\"private_models\\\":[],\\\"auto_blacklist\\\":true,\\\"blacklist_samples_reached\\\":false,\\\"exclude_nan_labels\\\":true,\\\"verbosity\\\":20,\\\"_debug_log\\\":\\\"azureml_automl.log\\\",\\\"show_warnings\\\":false,\\\"model_explainability\\\":true,\\\"service_url\\\":null,\\\"sdk_url\\\":null,\\\"sdk_packages\\\":null,\\\"enable_onnx_compatible_models\\\":false,\\\"enable_split_onnx_featurizer_estimator_models\\\":false,\\\"vm_type\\\":\\\"STANDARD_DS3_V2\\\",\\\"telemetry_verbosity\\\":20,\\\"send_telemetry\\\":true,\\\"enable_dnn\\\":false,\\\"scenario\\\":\\\"SDK-1.13.0\\\",\\\"environment_label\\\":null,\\\"save_mlflow\\\":false,\\\"force_text_dnn\\\":false,\\\"enable_feature_sweeping\\\":true,\\\"enable_early_stopping\\\":true,\\\"early_stopping_n_iters\\\":10,\\\"metrics\\\":null,\\\"enable_metric_confidence\\\":false,\\\"enable_ensembling\\\":true,\\\"enable_stack_ensembling\\\":true,\\\"ensemble_iterations\\\":15,\\\"enable_tf\\\":false,\\\"enable_subsampling\\\":null,\\\"subsample_seed\\\":null,\\\"enable_nimbusml\\\":false,\\\"enable_streaming\\\":false,\\\"force_streaming\\\":false,\\\"track_child_runs\\\":true,\\\"allowed_private_models\\\":[],\\\"label_column_name\\\":\\\"Churn\\\",\\\"weight_column_name\\\":null,\\\"cv_split_column_names\\\":null,\\\"enable_local_managed\\\":false,\\\"_local_managed_run_id\\\":null,\\\"cost_mode\\\":1,\\\"lag_length\\\":0,\\\"metric_operation\\\":\\\"maximize\\\",\\\"preprocess\\\":true}\", \"DataPrepJsonString\": \"{\\\\\\\"training_data\\\\\\\": {\\\\\\\"datasetId\\\\\\\": \\\\\\\"de507a23-5445-4712-b3e5-a960f1b0d661\\\\\\\"}, \\\\\\\"datasets\\\\\\\": 0}\", \"EnableSubsampling\": null, \"runTemplate\": \"AutoML\", \"azureml.runsource\": \"automl\", \"display_task_type\": \"classification\", \"dependencies_versions\": \"{\\\"azureml-widgets\\\": \\\"1.26.0\\\", \\\"azureml-train\\\": \\\"1.26.0\\\", \\\"azureml-train-restclients-hyperdrive\\\": \\\"1.26.0\\\", \\\"azureml-train-core\\\": \\\"1.26.0\\\", \\\"azureml-train-automl\\\": \\\"1.26.0\\\", \\\"azureml-train-automl-runtime\\\": \\\"1.26.0\\\", \\\"azureml-train-automl-client\\\": \\\"1.26.0\\\", \\\"azureml-tensorboard\\\": \\\"1.26.0\\\", \\\"azureml-telemetry\\\": \\\"1.26.0\\\", \\\"azureml-sdk\\\": \\\"1.26.0\\\", \\\"azureml-samples\\\": \\\"0+unknown\\\", \\\"azureml-pipeline\\\": \\\"1.26.0\\\", \\\"azureml-pipeline-steps\\\": \\\"1.26.0\\\", \\\"azureml-pipeline-core\\\": \\\"1.26.0\\\", \\\"azureml-opendatasets\\\": \\\"1.26.0\\\", \\\"azureml-model-management-sdk\\\": \\\"1.0.1b6.post1\\\", \\\"azureml-mlflow\\\": \\\"1.26.0\\\", \\\"azureml-interpret\\\": \\\"1.26.0\\\", \\\"azureml-explain-model\\\": \\\"1.26.0\\\", \\\"azureml-defaults\\\": \\\"1.26.0\\\", \\\"azureml-dataset-runtime\\\": \\\"1.26.0\\\", \\\"azureml-dataprep\\\": \\\"2.13.2\\\", \\\"azureml-dataprep-rslex\\\": \\\"1.11.2\\\", \\\"azureml-dataprep-native\\\": \\\"32.0.0\\\", \\\"azureml-datadrift\\\": \\\"1.26.0\\\", \\\"azureml-core\\\": \\\"1.26.0\\\", \\\"azureml-contrib-services\\\": \\\"1.26.0\\\", \\\"azureml-contrib-server\\\": \\\"1.26.0\\\", \\\"azureml-contrib-reinforcementlearning\\\": \\\"1.26.0\\\", \\\"azureml-contrib-pipeline-steps\\\": \\\"1.26.0\\\", \\\"azureml-contrib-notebook\\\": \\\"1.26.0\\\", \\\"azureml-contrib-gbdt\\\": \\\"1.26.0\\\", \\\"azureml-contrib-fairness\\\": \\\"1.26.0\\\", \\\"azureml-contrib-dataset\\\": \\\"1.26.0\\\", \\\"azureml-cli-common\\\": \\\"1.26.0\\\", \\\"azureml-automl-runtime\\\": \\\"1.26.0\\\", \\\"azureml-automl-dnn-nlp\\\": \\\"1.26.0\\\", \\\"azureml-automl-core\\\": \\\"1.26.0\\\", \\\"azureml-accel-models\\\": \\\"1.26.0\\\"}\", \"_aml_system_scenario_identification\": \"Remote.Parent\", \"ClientType\": \"SDK\", \"environment_cpu_name\": \"AzureML-AutoML\", \"environment_cpu_label\": \"prod\", \"environment_gpu_name\": \"AzureML-AutoML-GPU\", \"environment_gpu_label\": \"prod\", \"root_attribution\": \"automl\", \"attribution\": \"AutoML\", \"Orchestrator\": \"AutoML\", \"CancelUri\": \"https://southcentralus.experiments.azureml.net/jasmine/v1.0/subscriptions/1b944a9b-fdae-4f97-aeb1-b7eea0beac53/resourceGroups/aml-quickstarts-143004/providers/Microsoft.MachineLearningServices/workspaces/quick-starts-ws-143004/experimentids/e6fc0679-c204-4b7d-8bec-42f116e5a907/cancel/AutoML_ebf3bd15-bb5a-4275-86d9-00e01bd94c8e\", \"ClientSdkVersion\": \"1.25.0\", \"snapshotId\": \"00000000-0000-0000-0000-000000000000\", \"SetupRunId\": \"AutoML_ebf3bd15-bb5a-4275-86d9-00e01bd94c8e_setup\", \"SetupRunContainerId\": \"dcid.AutoML_ebf3bd15-bb5a-4275-86d9-00e01bd94c8e_setup\", \"FeaturizationRunJsonPath\": \"featurizer_container.json\", \"FeaturizationRunId\": \"AutoML_ebf3bd15-bb5a-4275-86d9-00e01bd94c8e_featurize\", \"ProblemInfoJsonString\": \"{\\\"dataset_num_categorical\\\": 0, \\\"is_sparse\\\": true, \\\"subsampling\\\": false, \\\"dataset_classes\\\": 2, \\\"dataset_features\\\": 40, \\\"dataset_samples\\\": 7043, \\\"single_frequency_class_detected\\\": false}\", \"ModelExplainRunId\": \"AutoML_ebf3bd15-bb5a-4275-86d9-00e01bd94c8e_ModelExplain\"}, \"tags\": {\"model_explain_run\": \"best_run\", \"_aml_system_azureml.automlComponent\": \"AutoML\", \"pipeline_id\": \"\", \"score\": \"\", \"predicted_cost\": \"\", \"fit_time\": \"\", \"training_percent\": \"\", \"iteration\": \"\", \"run_preprocessor\": \"\", \"run_algorithm\": \"\", \"automl_best_child_run_id\": \"AutoML_ebf3bd15-bb5a-4275-86d9-00e01bd94c8e_1\", \"model_explain_best_run_child_id\": \"AutoML_ebf3bd15-bb5a-4275-86d9-00e01bd94c8e_1\"}, \"end_time_utc\": \"2021-04-18T10:30:28.798864Z\", \"status\": \"Completed\", \"log_files\": {}, \"log_groups\": [], \"run_duration\": \"0:38:57\", \"run_number\": \"94\", \"run_queued_details\": {\"status\": \"Completed\", \"details\": null}}, \"child_runs\": [{\"run_id\": \"AutoML_ebf3bd15-bb5a-4275-86d9-00e01bd94c8e_0\", \"run_number\": 101, \"metric\": null, \"status\": \"Completed\", \"run_type\": \"azureml.scriptrun\", \"training_percent\": \"100\", \"start_time\": \"2021-04-18T10:05:06.482799Z\", \"end_time\": \"2021-04-18T10:11:34.285756Z\", \"created_time\": \"2021-04-18T10:04:52.015938Z\", \"created_time_dt\": \"2021-04-18T10:04:52.015938Z\", \"duration\": \"0:06:42\", \"iteration\": \"0\", \"goal\": \"accuracy_max\", \"run_name\": \"MaxAbsScaler, LightGBM\", \"run_properties\": \"copy=True\", \"primary_metric\": 0.79341334, \"best_metric\": 0.79341334}, {\"run_id\": \"AutoML_ebf3bd15-bb5a-4275-86d9-00e01bd94c8e_3\", \"run_number\": 102, \"metric\": null, \"status\": \"Completed\", \"run_type\": \"azureml.scriptrun\", \"training_percent\": \"100\", \"start_time\": \"2021-04-18T10:05:06.20093Z\", \"end_time\": \"2021-04-18T10:11:28.894447Z\", \"created_time\": \"2021-04-18T10:04:52.164524Z\", \"created_time_dt\": \"2021-04-18T10:04:52.164524Z\", \"duration\": \"0:06:36\", \"iteration\": \"3\", \"goal\": \"accuracy_max\", \"run_name\": \"MaxAbsScaler, RandomForest\", \"run_properties\": \"copy=True\", \"primary_metric\": 0.78645543, \"best_metric\": 0.80633292}, {\"run_id\": \"AutoML_ebf3bd15-bb5a-4275-86d9-00e01bd94c8e_1\", \"run_number\": 103, \"metric\": null, \"status\": \"Completed\", \"run_type\": \"azureml.scriptrun\", \"training_percent\": \"100\", \"start_time\": \"2021-04-18T10:05:06.406333Z\", \"end_time\": \"2021-04-18T10:12:12.910605Z\", \"created_time\": \"2021-04-18T10:04:52.176916Z\", \"created_time_dt\": \"2021-04-18T10:04:52.176916Z\", \"duration\": \"0:07:20\", \"iteration\": \"1\", \"goal\": \"accuracy_max\", \"run_name\": \"MaxAbsScaler, XGBoostClassifier\", \"run_properties\": \"copy=True\", \"primary_metric\": 0.80633292, \"best_metric\": 0.80633292}, {\"run_id\": \"AutoML_ebf3bd15-bb5a-4275-86d9-00e01bd94c8e_2\", \"run_number\": 108, \"metric\": null, \"status\": \"Completed\", \"run_type\": \"azureml.scriptrun\", \"training_percent\": \"100\", \"start_time\": \"2021-04-18T10:05:05.745325Z\", \"end_time\": \"2021-04-18T10:11:23.797779Z\", \"created_time\": \"2021-04-18T10:04:52.37053Z\", \"created_time_dt\": \"2021-04-18T10:04:52.37053Z\", \"duration\": \"0:06:31\", \"iteration\": \"2\", \"goal\": \"accuracy_max\", \"run_name\": \"MaxAbsScaler, RandomForest\", \"run_properties\": \"copy=True\", \"primary_metric\": 0.79468988, \"best_metric\": 0.80633292}, {\"run_id\": \"AutoML_ebf3bd15-bb5a-4275-86d9-00e01bd94c8e_4\", \"run_number\": 109, \"metric\": null, \"status\": \"Completed\", \"run_type\": \"azureml.scriptrun\", \"training_percent\": \"100\", \"start_time\": \"2021-04-18T10:11:37.553667Z\", \"end_time\": \"2021-04-18T10:17:45.039707Z\", \"created_time\": \"2021-04-18T10:11:27.502244Z\", \"created_time_dt\": \"2021-04-18T10:11:27.502244Z\", \"duration\": \"0:06:17\", \"iteration\": \"4\", \"goal\": \"accuracy_max\", \"run_name\": \"MaxAbsScaler, RandomForest\", \"run_properties\": \"copy=True\", \"primary_metric\": 0.75024818, \"best_metric\": 0.80633292}, {\"run_id\": \"AutoML_ebf3bd15-bb5a-4275-86d9-00e01bd94c8e_5\", \"run_number\": 111, \"metric\": null, \"status\": \"Completed\", \"run_type\": \"azureml.scriptrun\", \"training_percent\": \"100\", \"start_time\": \"2021-04-18T10:11:43.987524Z\", \"end_time\": \"2021-04-18T10:17:44.296122Z\", \"created_time\": \"2021-04-18T10:11:31.420999Z\", \"created_time_dt\": \"2021-04-18T10:11:31.420999Z\", \"duration\": \"0:06:12\", \"iteration\": \"5\", \"goal\": \"accuracy_max\", \"run_name\": \"MaxAbsScaler, RandomForest\", \"run_properties\": \"copy=True\", \"primary_metric\": 0.72937657, \"best_metric\": 0.80633292}, {\"run_id\": \"AutoML_ebf3bd15-bb5a-4275-86d9-00e01bd94c8e_6\", \"run_number\": 113, \"metric\": null, \"status\": \"Completed\", \"run_type\": \"azureml.scriptrun\", \"training_percent\": \"100\", \"start_time\": \"2021-04-18T10:11:48.229414Z\", \"end_time\": \"2021-04-18T10:18:31.173276Z\", \"created_time\": \"2021-04-18T10:11:37.207627Z\", \"created_time_dt\": \"2021-04-18T10:11:37.207627Z\", \"duration\": \"0:06:53\", \"iteration\": \"6\", \"goal\": \"accuracy_max\", \"run_name\": \"SparseNormalizer, XGBoostClassifier\", \"run_properties\": \"<azureml.automl.runtime.shared.model_wrappers.SparseNormalizer object at 0x7ff9a446e278\", \"primary_metric\": 0.7963946, \"best_metric\": 0.80633292}, {\"run_id\": \"AutoML_ebf3bd15-bb5a-4275-86d9-00e01bd94c8e_7\", \"run_number\": 116, \"metric\": null, \"status\": \"Completed\", \"run_type\": \"azureml.scriptrun\", \"training_percent\": \"100\", \"start_time\": \"2021-04-18T10:12:25.187076Z\", \"end_time\": \"2021-04-18T10:18:57.848716Z\", \"created_time\": \"2021-04-18T10:12:15.214342Z\", \"created_time_dt\": \"2021-04-18T10:12:15.214342Z\", \"duration\": \"0:06:42\", \"iteration\": \"7\", \"goal\": \"accuracy_max\", \"run_name\": \"SparseNormalizer, XGBoostClassifier\", \"run_properties\": \"<azureml.automl.runtime.shared.model_wrappers.SparseNormalizer object at 0x7eff41d39b38\", \"primary_metric\": 0.79014658, \"best_metric\": 0.80633292}, {\"run_id\": \"AutoML_ebf3bd15-bb5a-4275-86d9-00e01bd94c8e_9\", \"run_number\": 118, \"metric\": null, \"status\": \"Completed\", \"run_type\": \"azureml.scriptrun\", \"training_percent\": \"100\", \"start_time\": \"2021-04-18T10:17:55.822987Z\", \"end_time\": \"2021-04-18T10:23:51.938723Z\", \"created_time\": \"2021-04-18T10:17:47.477274Z\", \"created_time_dt\": \"2021-04-18T10:17:47.477274Z\", \"duration\": \"0:06:04\", \"iteration\": \"9\", \"goal\": \"accuracy_max\", \"run_name\": \"SparseNormalizer, XGBoostClassifier\", \"run_properties\": \"<azureml.automl.runtime.shared.model_wrappers.SparseNormalizer object at 0x7f8c0ccccef0\", \"primary_metric\": 0.79582686, \"best_metric\": 0.80633292}, {\"run_id\": \"AutoML_ebf3bd15-bb5a-4275-86d9-00e01bd94c8e_8\", \"run_number\": 119, \"metric\": null, \"status\": \"Canceled\", \"run_type\": \"azureml.scriptrun\", \"training_percent\": \"100\", \"start_time\": \"2021-04-18T10:17:58.892195Z\", \"end_time\": \"2021-04-18T10:23:59.027113Z\", \"created_time\": \"2021-04-18T10:17:47.482835Z\", \"created_time_dt\": \"2021-04-18T10:17:47.482835Z\", \"duration\": \"0:06:11\", \"iteration\": \"8\", \"goal\": \"accuracy_max\", \"run_name\": \"SparseNormalizer, XGBoostClassifier\", \"run_properties\": \"<azureml.automl.runtime.shared.model_wrappers.SparseNormalizer object at 0x7efebc291240\", \"primary_metric\": 0.79057284, \"best_metric\": 0.80633292}, {\"run_id\": \"AutoML_ebf3bd15-bb5a-4275-86d9-00e01bd94c8e_10\", \"run_number\": 122, \"metric\": null, \"status\": \"Canceled\", \"run_type\": \"azureml.scriptrun\", \"training_percent\": \"100\", \"start_time\": \"2021-04-18T10:18:44.246538Z\", \"end_time\": \"2021-04-18T10:23:59.721307Z\", \"created_time\": \"2021-04-18T10:18:33.254219Z\", \"created_time_dt\": \"2021-04-18T10:18:33.254219Z\", \"duration\": \"0:05:26\", \"iteration\": \"10\", \"goal\": null, \"run_name\": \"Canceled\", \"run_properties\": null}, {\"run_id\": \"AutoML_ebf3bd15-bb5a-4275-86d9-00e01bd94c8e_11\", \"run_number\": 124, \"metric\": null, \"status\": \"Canceled\", \"run_type\": \"azureml.scriptrun\", \"training_percent\": \"100\", \"start_time\": \"2021-04-18T10:19:10.878599Z\", \"end_time\": \"2021-04-18T10:24:00.224214Z\", \"created_time\": \"2021-04-18T10:19:00.117131Z\", \"created_time_dt\": \"2021-04-18T10:19:00.117131Z\", \"duration\": \"0:05:00\", \"iteration\": \"11\", \"goal\": null, \"run_name\": \"Canceled\", \"run_properties\": null}, {\"run_id\": \"AutoML_ebf3bd15-bb5a-4275-86d9-00e01bd94c8e_13\", \"run_number\": 125, \"metric\": null, \"status\": \"Completed\", \"run_type\": \"azureml.scriptrun\", \"training_percent\": \"100\", \"start_time\": \"2021-04-18T10:24:13.872743Z\", \"end_time\": \"2021-04-18T10:30:26.253759Z\", \"created_time\": \"2021-04-18T10:24:02.762382Z\", \"created_time_dt\": \"2021-04-18T10:24:02.762382Z\", \"duration\": \"0:06:23\", \"iteration\": \"13\", \"goal\": \"accuracy_max\", \"run_name\": \"StackEnsemble\", \"run_properties\": \"base_learners=[('1',\\n                                        Pipeline(memory=None,\\n                                                 steps=[('maxabsscaler',\\n                                                         MaxAbsScaler(copy=True\", \"primary_metric\": 0.80292595, \"best_metric\": 0.80633292}, {\"run_id\": \"AutoML_ebf3bd15-bb5a-4275-86d9-00e01bd94c8e_12\", \"run_number\": 126, \"metric\": null, \"status\": \"Completed\", \"run_type\": \"azureml.scriptrun\", \"training_percent\": \"100\", \"start_time\": \"2021-04-18T10:24:13.097726Z\", \"end_time\": \"2021-04-18T10:30:10.907414Z\", \"created_time\": \"2021-04-18T10:24:02.990618Z\", \"created_time_dt\": \"2021-04-18T10:24:02.990618Z\", \"duration\": \"0:06:07\", \"iteration\": \"12\", \"goal\": \"accuracy_max\", \"run_name\": \"VotingEnsemble\", \"run_properties\": \"classification_labels=None,\\n                              estimators=[('1',\\n                                           Pipeline(memory=None,\\n                                                    steps=[('maxabsscaler',\\n                                                            MaxAbsScaler(copy=True\", \"primary_metric\": 0.80462995, \"best_metric\": 0.80633292}], \"children_metrics\": {\"categories\": [0], \"series\": {\"f1_score_macro\": [{\"categories\": [\"0\", \"1\", \"2\", \"3\", \"4\", \"5\", \"6\", \"7\", \"8\", \"9\", \"12\", \"13\"], \"mode\": \"markers\", \"name\": \"f1_score_macro\", \"stepped\": false, \"type\": \"scatter\", \"data\": [0.7175132240967862, 0.7346304075371126, 0.6933278918968072, 0.6595506422783497, 0.7185152854707333, 0.6993972238246634, 0.7193586496356627, 0.7133274565398962, 0.7139753295623713, 0.7160583633367743, 0.7276049483005202, 0.7249915620012621]}, {\"categories\": [\"0\", \"1\", \"2\", \"3\", \"4\", \"5\", \"6\", \"7\", \"8\", \"9\", \"12\", \"13\"], \"mode\": \"lines\", \"name\": \"f1_score_macro_max\", \"stepped\": true, \"type\": \"scatter\", \"data\": [0.7175132240967862, 0.7346304075371126, 0.7346304075371126, 0.7346304075371126, 0.7346304075371126, 0.7346304075371126, 0.7346304075371126, 0.7346304075371126, 0.7346304075371126, 0.7346304075371126, 0.7346304075371126, 0.7346304075371126]}], \"f1_score_weighted\": [{\"categories\": [\"0\", \"1\", \"2\", \"3\", \"4\", \"5\", \"6\", \"7\", \"8\", \"9\", \"12\", \"13\"], \"mode\": \"markers\", \"name\": \"f1_score_weighted\", \"stepped\": false, \"type\": \"scatter\", \"data\": [0.7862390227449835, 0.799346087766676, 0.7761140555535772, 0.7569341572246416, 0.7628732566399076, 0.7439246477754526, 0.7883917358450928, 0.783010192936635, 0.7834550565753453, 0.7866565978088055, 0.7955594865923818, 0.7936964023822494]}, {\"categories\": [\"0\", \"1\", \"2\", \"3\", \"4\", \"5\", \"6\", \"7\", \"8\", \"9\", \"12\", \"13\"], \"mode\": \"lines\", \"name\": \"f1_score_weighted_max\", \"stepped\": true, \"type\": \"scatter\", \"data\": [0.7862390227449835, 0.799346087766676, 0.799346087766676, 0.799346087766676, 0.799346087766676, 0.799346087766676, 0.799346087766676, 0.799346087766676, 0.799346087766676, 0.799346087766676, 0.799346087766676, 0.799346087766676]}], \"precision_score_micro\": [{\"categories\": [\"0\", \"1\", \"2\", \"3\", \"4\", \"5\", \"6\", \"7\", \"8\", \"9\", \"12\", \"13\"], \"mode\": \"markers\", \"name\": \"precision_score_micro\", \"stepped\": false, \"type\": \"scatter\", \"data\": [0.7934133417145185, 0.806332924194067, 0.7946898755814992, 0.7864554337009295, 0.7502481813142637, 0.7293765743453954, 0.796394602361878, 0.7901465787997145, 0.7905728361045199, 0.7958268641664894, 0.8046299515589755, 0.802925950631819]}, {\"categories\": [\"0\", \"1\", \"2\", \"3\", \"4\", \"5\", \"6\", \"7\", \"8\", \"9\", \"12\", \"13\"], \"mode\": \"lines\", \"name\": \"precision_score_micro_max\", \"stepped\": true, \"type\": \"scatter\", \"data\": [0.7934133417145185, 0.806332924194067, 0.806332924194067, 0.806332924194067, 0.806332924194067, 0.806332924194067, 0.806332924194067, 0.806332924194067, 0.806332924194067, 0.806332924194067, 0.806332924194067, 0.806332924194067]}], \"recall_score_micro\": [{\"categories\": [\"0\", \"1\", \"2\", \"3\", \"4\", \"5\", \"6\", \"7\", \"8\", \"9\", \"12\", \"13\"], \"mode\": \"markers\", \"name\": \"recall_score_micro\", \"stepped\": false, \"type\": \"scatter\", \"data\": [0.7934133417145185, 0.806332924194067, 0.7946898755814992, 0.7864554337009295, 0.7502481813142637, 0.7293765743453954, 0.796394602361878, 0.7901465787997145, 0.7905728361045199, 0.7958268641664894, 0.8046299515589755, 0.802925950631819]}, {\"categories\": [\"0\", \"1\", \"2\", \"3\", \"4\", \"5\", \"6\", \"7\", \"8\", \"9\", \"12\", \"13\"], \"mode\": \"lines\", \"name\": \"recall_score_micro_max\", \"stepped\": true, \"type\": \"scatter\", \"data\": [0.7934133417145185, 0.806332924194067, 0.806332924194067, 0.806332924194067, 0.806332924194067, 0.806332924194067, 0.806332924194067, 0.806332924194067, 0.806332924194067, 0.806332924194067, 0.806332924194067, 0.806332924194067]}], \"weighted_accuracy\": [{\"categories\": [\"0\", \"1\", \"2\", \"3\", \"4\", \"5\", \"6\", \"7\", \"8\", \"9\", \"12\", \"13\"], \"mode\": \"markers\", \"name\": \"weighted_accuracy\", \"stepped\": false, \"type\": \"scatter\", \"data\": [0.8494580108214856, 0.8606217090454594, 0.8722232719332282, 0.8790565011624012, 0.7439162256471842, 0.7190653416464371, 0.8540465234087051, 0.8465371727336771, 0.8468126045530798, 0.8559239051805395, 0.8638011353409499, 0.8625443198508544]}, {\"categories\": [\"0\", \"1\", \"2\", \"3\", \"4\", \"5\", \"6\", \"7\", \"8\", \"9\", \"12\", \"13\"], \"mode\": \"lines\", \"name\": \"weighted_accuracy_max\", \"stepped\": true, \"type\": \"scatter\", \"data\": [0.8494580108214856, 0.8606217090454594, 0.8722232719332282, 0.8790565011624012, 0.8790565011624012, 0.8790565011624012, 0.8790565011624012, 0.8790565011624012, 0.8790565011624012, 0.8790565011624012, 0.8790565011624012, 0.8790565011624012]}], \"matthews_correlation\": [{\"categories\": [\"0\", \"1\", \"2\", \"3\", \"4\", \"5\", \"6\", \"7\", \"8\", \"9\", \"12\", \"13\"], \"mode\": \"markers\", \"name\": \"matthews_correlation\", \"stepped\": false, \"type\": \"scatter\", \"data\": [0.4409331362173062, 0.47587648813320743, 0.41727458147851654, 0.378576869480612, 0.4690761821023203, 0.4397321653851362, 0.4461939690938328, 0.4323360980108883, 0.43358870913080083, 0.44159579873904, 0.46546408402314593, 0.4602948069474951]}, {\"categories\": [\"0\", \"1\", \"2\", \"3\", \"4\", \"5\", \"6\", \"7\", \"8\", \"9\", \"12\", \"13\"], \"mode\": \"lines\", \"name\": \"matthews_correlation_max\", \"stepped\": true, \"type\": \"scatter\", \"data\": [0.4409331362173062, 0.47587648813320743, 0.47587648813320743, 0.47587648813320743, 0.47587648813320743, 0.47587648813320743, 0.47587648813320743, 0.47587648813320743, 0.47587648813320743, 0.47587648813320743, 0.47587648813320743, 0.47587648813320743]}], \"f1_score_micro\": [{\"categories\": [\"0\", \"1\", \"2\", \"3\", \"4\", \"5\", \"6\", \"7\", \"8\", \"9\", \"12\", \"13\"], \"mode\": \"markers\", \"name\": \"f1_score_micro\", \"stepped\": false, \"type\": \"scatter\", \"data\": [0.7934133417145186, 0.806332924194067, 0.7946898755814992, 0.7864554337009296, 0.7502481813142637, 0.7293765743453955, 0.796394602361878, 0.7901465787997145, 0.7905728361045199, 0.7958268641664894, 0.8046299515589755, 0.8029259506318188]}, {\"categories\": [\"0\", \"1\", \"2\", \"3\", \"4\", \"5\", \"6\", \"7\", \"8\", \"9\", \"12\", \"13\"], \"mode\": \"lines\", \"name\": \"f1_score_micro_max\", \"stepped\": true, \"type\": \"scatter\", \"data\": [0.7934133417145186, 0.806332924194067, 0.806332924194067, 0.806332924194067, 0.806332924194067, 0.806332924194067, 0.806332924194067, 0.806332924194067, 0.806332924194067, 0.806332924194067, 0.806332924194067, 0.806332924194067]}], \"average_precision_score_micro\": [{\"categories\": [\"0\", \"1\", \"2\", \"3\", \"4\", \"5\", \"6\", \"7\", \"8\", \"9\", \"12\", \"13\"], \"mode\": \"markers\", \"name\": \"average_precision_score_micro\", \"stepped\": false, \"type\": \"scatter\", \"data\": [0.8831696463692724, 0.890709125910217, 0.8853204517809766, 0.8812444270886447, 0.8430354747099745, 0.8137114163089544, 0.8875208646624371, 0.8801083644487514, 0.8831743628898289, 0.885195454143502, 0.8908357728402466, 0.890652772599856]}, {\"categories\": [\"0\", \"1\", \"2\", \"3\", \"4\", \"5\", \"6\", \"7\", \"8\", \"9\", \"12\", \"13\"], \"mode\": \"lines\", \"name\": \"average_precision_score_micro_max\", \"stepped\": true, \"type\": \"scatter\", \"data\": [0.8831696463692724, 0.890709125910217, 0.890709125910217, 0.890709125910217, 0.890709125910217, 0.890709125910217, 0.890709125910217, 0.890709125910217, 0.890709125910217, 0.890709125910217, 0.8908357728402466, 0.8908357728402466]}], \"recall_score_macro\": [{\"categories\": [\"0\", \"1\", \"2\", \"3\", \"4\", \"5\", \"6\", \"7\", \"8\", \"9\", \"12\", \"13\"], \"mode\": \"markers\", \"name\": \"recall_score_macro\", \"stepped\": false, \"type\": \"scatter\", \"data\": [0.7056879837750146, 0.7213947760198094, 0.6731789791614234, 0.6416327522359161, 0.7601722365398093, 0.7457114255832815, 0.7061464262781296, 0.7018513682961253, 0.7025241134117076, 0.701827246048389, 0.7120700542465995, 0.7096119666364865]}, {\"categories\": [\"0\", \"1\", \"2\", \"3\", \"4\", \"5\", \"6\", \"7\", \"8\", \"9\", \"12\", \"13\"], \"mode\": \"lines\", \"name\": \"recall_score_macro_max\", \"stepped\": true, \"type\": \"scatter\", \"data\": [0.7056879837750146, 0.7213947760198094, 0.7213947760198094, 0.7213947760198094, 0.7601722365398093, 0.7601722365398093, 0.7601722365398093, 0.7601722365398093, 0.7601722365398093, 0.7601722365398093, 0.7601722365398093, 0.7601722365398093]}], \"precision_score_weighted\": [{\"categories\": [\"0\", \"1\", \"2\", \"3\", \"4\", \"5\", \"6\", \"7\", \"8\", \"9\", \"12\", \"13\"], \"mode\": \"markers\", \"name\": \"precision_score_weighted\", \"stepped\": false, \"type\": \"scatter\", \"data\": [0.7836627915151761, 0.7975167042252641, 0.7813148679461234, 0.7742769372034685, 0.8015425385540661, 0.7920786321942082, 0.7862113327275355, 0.7802960696935468, 0.7807229639912104, 0.7848746507227579, 0.7944853532270019, 0.7924909198342411]}, {\"categories\": [\"0\", \"1\", \"2\", \"3\", \"4\", \"5\", \"6\", \"7\", \"8\", \"9\", \"12\", \"13\"], \"mode\": \"lines\", \"name\": \"precision_score_weighted_max\", \"stepped\": true, \"type\": \"scatter\", \"data\": [0.7836627915151761, 0.7975167042252641, 0.7975167042252641, 0.7975167042252641, 0.8015425385540661, 0.8015425385540661, 0.8015425385540661, 0.8015425385540661, 0.8015425385540661, 0.8015425385540661, 0.8015425385540661, 0.8015425385540661]}], \"average_precision_score_macro\": [{\"categories\": [\"0\", \"1\", \"2\", \"3\", \"4\", \"5\", \"6\", \"7\", \"8\", \"9\", \"12\", \"13\"], \"mode\": \"markers\", \"name\": \"average_precision_score_macro\", \"stepped\": false, \"type\": \"scatter\", \"data\": [0.7867665435577887, 0.799248532925596, 0.7879272965118632, 0.7807556306481117, 0.7934425549701606, 0.7570097545838189, 0.7909247012625004, 0.777994360158618, 0.7820087555778642, 0.7877673557385921, 0.7982743161191888, 0.7984350842436788]}, {\"categories\": [\"0\", \"1\", \"2\", \"3\", \"4\", \"5\", \"6\", \"7\", \"8\", \"9\", \"12\", \"13\"], \"mode\": \"lines\", \"name\": \"average_precision_score_macro_max\", \"stepped\": true, \"type\": \"scatter\", \"data\": [0.7867665435577887, 0.799248532925596, 0.799248532925596, 0.799248532925596, 0.799248532925596, 0.799248532925596, 0.799248532925596, 0.799248532925596, 0.799248532925596, 0.799248532925596, 0.799248532925596, 0.799248532925596]}], \"AUC_micro\": [{\"categories\": [\"0\", \"1\", \"2\", \"3\", \"4\", \"5\", \"6\", \"7\", \"8\", \"9\", \"12\", \"13\"], \"mode\": \"markers\", \"name\": \"AUC_micro\", \"stepped\": false, \"type\": \"scatter\", \"data\": [0.8820266908081331, 0.8903040006188849, 0.8844220844107582, 0.8795168112548674, 0.8394238531244125, 0.8103704540576141, 0.8859874071892776, 0.8781585922823677, 0.8812246070136274, 0.8839945751056065, 0.8898276183196568, 0.8897235684747248]}, {\"categories\": [\"0\", \"1\", \"2\", \"3\", \"4\", \"5\", \"6\", \"7\", \"8\", \"9\", \"12\", \"13\"], \"mode\": \"lines\", \"name\": \"AUC_micro_max\", \"stepped\": true, \"type\": \"scatter\", \"data\": [0.8820266908081331, 0.8903040006188849, 0.8903040006188849, 0.8903040006188849, 0.8903040006188849, 0.8903040006188849, 0.8903040006188849, 0.8903040006188849, 0.8903040006188849, 0.8903040006188849, 0.8903040006188849, 0.8903040006188849]}], \"accuracy\": [{\"categories\": [\"0\", \"1\", \"2\", \"3\", \"4\", \"5\", \"6\", \"7\", \"8\", \"9\", \"12\", \"13\"], \"mode\": \"markers\", \"name\": \"accuracy\", \"stepped\": false, \"type\": \"scatter\", \"data\": [0.7934133417145185, 0.806332924194067, 0.7946898755814992, 0.7864554337009295, 0.7502481813142637, 0.7293765743453954, 0.796394602361878, 0.7901465787997145, 0.7905728361045199, 0.7958268641664894, 0.8046299515589755, 0.802925950631819]}, {\"categories\": [\"0\", \"1\", \"2\", \"3\", \"4\", \"5\", \"6\", \"7\", \"8\", \"9\", \"12\", \"13\"], \"mode\": \"lines\", \"name\": \"accuracy_max\", \"stepped\": true, \"type\": \"scatter\", \"data\": [0.7934133417145185, 0.806332924194067, 0.806332924194067, 0.806332924194067, 0.806332924194067, 0.806332924194067, 0.806332924194067, 0.806332924194067, 0.806332924194067, 0.806332924194067, 0.806332924194067, 0.806332924194067]}], \"precision_score_macro\": [{\"categories\": [\"0\", \"1\", \"2\", \"3\", \"4\", \"5\", \"6\", \"7\", \"8\", \"9\", \"12\", \"13\"], \"mode\": \"markers\", \"name\": \"precision_score_macro\", \"stepped\": false, \"type\": \"scatter\", \"data\": [0.7363299616567219, 0.7557636201223872, 0.7514070999084655, 0.7534231430936257, 0.7114372784182784, 0.6967652428094114, 0.7414726322676182, 0.7315174041863473, 0.7320879904910506, 0.7416192753633934, 0.7554720067462158, 0.752768394189407]}, {\"categories\": [\"0\", \"1\", \"2\", \"3\", \"4\", \"5\", \"6\", \"7\", \"8\", \"9\", \"12\", \"13\"], \"mode\": \"lines\", \"name\": \"precision_score_macro_max\", \"stepped\": true, \"type\": \"scatter\", \"data\": [0.7363299616567219, 0.7557636201223872, 0.7557636201223872, 0.7557636201223872, 0.7557636201223872, 0.7557636201223872, 0.7557636201223872, 0.7557636201223872, 0.7557636201223872, 0.7557636201223872, 0.7557636201223872, 0.7557636201223872]}], \"AUC_weighted\": [{\"categories\": [\"0\", \"1\", \"2\", \"3\", \"4\", \"5\", \"6\", \"7\", \"8\", \"9\", \"12\", \"13\"], \"mode\": \"markers\", \"name\": \"AUC_weighted\", \"stepped\": false, \"type\": \"scatter\", \"data\": [0.8336521823108806, 0.8457764550980652, 0.8398712965567561, 0.8355705076414189, 0.8433568959621119, 0.8198547781220018, 0.8397050492484602, 0.828572193906313, 0.8342491458018516, 0.8367758017406758, 0.8453234374913824, 0.8454092498749057]}, {\"categories\": [\"0\", \"1\", \"2\", \"3\", \"4\", \"5\", \"6\", \"7\", \"8\", \"9\", \"12\", \"13\"], \"mode\": \"lines\", \"name\": \"AUC_weighted_max\", \"stepped\": true, \"type\": \"scatter\", \"data\": [0.8336521823108806, 0.8457764550980652, 0.8457764550980652, 0.8457764550980652, 0.8457764550980652, 0.8457764550980652, 0.8457764550980652, 0.8457764550980652, 0.8457764550980652, 0.8457764550980652, 0.8457764550980652, 0.8457764550980652]}], \"balanced_accuracy\": [{\"categories\": [\"0\", \"1\", \"2\", \"3\", \"4\", \"5\", \"6\", \"7\", \"8\", \"9\", \"12\", \"13\"], \"mode\": \"markers\", \"name\": \"balanced_accuracy\", \"stepped\": false, \"type\": \"scatter\", \"data\": [0.7056879837750146, 0.7213947760198094, 0.6731789791614234, 0.6416327522359161, 0.7601722365398093, 0.7457114255832815, 0.7061464262781296, 0.7018513682961253, 0.7025241134117076, 0.701827246048389, 0.7120700542465995, 0.7096119666364865]}, {\"categories\": [\"0\", \"1\", \"2\", \"3\", \"4\", \"5\", \"6\", \"7\", \"8\", \"9\", \"12\", \"13\"], \"mode\": \"lines\", \"name\": \"balanced_accuracy_max\", \"stepped\": true, \"type\": \"scatter\", \"data\": [0.7056879837750146, 0.7213947760198094, 0.7213947760198094, 0.7213947760198094, 0.7601722365398093, 0.7601722365398093, 0.7601722365398093, 0.7601722365398093, 0.7601722365398093, 0.7601722365398093, 0.7601722365398093, 0.7601722365398093]}], \"norm_macro_recall\": [{\"categories\": [\"0\", \"1\", \"2\", \"3\", \"4\", \"5\", \"6\", \"7\", \"8\", \"9\", \"12\", \"13\"], \"mode\": \"markers\", \"name\": \"norm_macro_recall\", \"stepped\": false, \"type\": \"scatter\", \"data\": [0.4113759675500294, 0.44278955203961873, 0.3463579583228469, 0.28326550447183213, 0.5203444730796184, 0.491422851166563, 0.4122928525562591, 0.4037027365922506, 0.40504822682341546, 0.4036544920967778, 0.42414010849319933, 0.4192239332729728]}, {\"categories\": [\"0\", \"1\", \"2\", \"3\", \"4\", \"5\", \"6\", \"7\", \"8\", \"9\", \"12\", \"13\"], \"mode\": \"lines\", \"name\": \"norm_macro_recall_max\", \"stepped\": true, \"type\": \"scatter\", \"data\": [0.4113759675500294, 0.44278955203961873, 0.44278955203961873, 0.44278955203961873, 0.5203444730796184, 0.5203444730796184, 0.5203444730796184, 0.5203444730796184, 0.5203444730796184, 0.5203444730796184, 0.5203444730796184, 0.5203444730796184]}], \"average_precision_score_weighted\": [{\"categories\": [\"0\", \"1\", \"2\", \"3\", \"4\", \"5\", \"6\", \"7\", \"8\", \"9\", \"12\", \"13\"], \"mode\": \"markers\", \"name\": \"average_precision_score_weighted\", \"stepped\": false, \"type\": \"scatter\", \"data\": [0.8542570358875866, 0.8630627705917088, 0.856079514624276, 0.8515803843512146, 0.8598337748113175, 0.8351922013479193, 0.8581329666895372, 0.8491998369438091, 0.8524696008166218, 0.8556832568587308, 0.8628618155505636, 0.8629219237469802]}, {\"categories\": [\"0\", \"1\", \"2\", \"3\", \"4\", \"5\", \"6\", \"7\", \"8\", \"9\", \"12\", \"13\"], \"mode\": \"lines\", \"name\": \"average_precision_score_weighted_max\", \"stepped\": true, \"type\": \"scatter\", \"data\": [0.8542570358875866, 0.8630627705917088, 0.8630627705917088, 0.8630627705917088, 0.8630627705917088, 0.8630627705917088, 0.8630627705917088, 0.8630627705917088, 0.8630627705917088, 0.8630627705917088, 0.8630627705917088, 0.8630627705917088]}], \"log_loss\": [{\"categories\": [\"0\", \"1\", \"2\", \"3\", \"4\", \"5\", \"6\", \"7\", \"8\", \"9\", \"12\", \"13\"], \"mode\": \"markers\", \"name\": \"log_loss\", \"stepped\": false, \"type\": \"scatter\", \"data\": [0.437987212396927, 0.41585176686389275, 0.42859052292528665, 0.4380373177742289, 0.49135878754927526, 0.5403700902287761, 0.42518508508253605, 0.4384149143219391, 0.43657187035236594, 0.4767868993771674, 0.4209202780924424, 0.42380887199086287]}, {\"categories\": [\"0\", \"1\", \"2\", \"3\", \"4\", \"5\", \"6\", \"7\", \"8\", \"9\", \"12\", \"13\"], \"mode\": \"lines\", \"name\": \"log_loss_min\", \"stepped\": true, \"type\": \"scatter\", \"data\": [0.437987212396927, 0.41585176686389275, 0.41585176686389275, 0.41585176686389275, 0.41585176686389275, 0.41585176686389275, 0.41585176686389275, 0.41585176686389275, 0.41585176686389275, 0.41585176686389275, 0.41585176686389275, 0.41585176686389275]}], \"recall_score_weighted\": [{\"categories\": [\"0\", \"1\", \"2\", \"3\", \"4\", \"5\", \"6\", \"7\", \"8\", \"9\", \"12\", \"13\"], \"mode\": \"markers\", \"name\": \"recall_score_weighted\", \"stepped\": false, \"type\": \"scatter\", \"data\": [0.7934133417145185, 0.806332924194067, 0.7946898755814992, 0.7864554337009295, 0.7502481813142637, 0.7293765743453954, 0.796394602361878, 0.7901465787997145, 0.7905728361045199, 0.7958268641664894, 0.8046299515589755, 0.802925950631819]}, {\"categories\": [\"0\", \"1\", \"2\", \"3\", \"4\", \"5\", \"6\", \"7\", \"8\", \"9\", \"12\", \"13\"], \"mode\": \"lines\", \"name\": \"recall_score_weighted_max\", \"stepped\": true, \"type\": \"scatter\", \"data\": [0.7934133417145185, 0.806332924194067, 0.806332924194067, 0.806332924194067, 0.806332924194067, 0.806332924194067, 0.806332924194067, 0.806332924194067, 0.806332924194067, 0.806332924194067, 0.806332924194067, 0.806332924194067]}], \"AUC_macro\": [{\"categories\": [\"0\", \"1\", \"2\", \"3\", \"4\", \"5\", \"6\", \"7\", \"8\", \"9\", \"12\", \"13\"], \"mode\": \"markers\", \"name\": \"AUC_macro\", \"stepped\": false, \"type\": \"scatter\", \"data\": [0.8336521823108806, 0.8457764927526638, 0.8398712965567562, 0.8355705076414189, 0.8433568959621119, 0.8198547781220018, 0.8397050492484602, 0.8285721562517144, 0.8342491458018516, 0.8367758017406759, 0.8453234374913824, 0.8454092498749058]}, {\"categories\": [\"0\", \"1\", \"2\", \"3\", \"4\", \"5\", \"6\", \"7\", \"8\", \"9\", \"12\", \"13\"], \"mode\": \"lines\", \"name\": \"AUC_macro_max\", \"stepped\": true, \"type\": \"scatter\", \"data\": [0.8336521823108806, 0.8457764927526638, 0.8457764927526638, 0.8457764927526638, 0.8457764927526638, 0.8457764927526638, 0.8457764927526638, 0.8457764927526638, 0.8457764927526638, 0.8457764927526638, 0.8457764927526638, 0.8457764927526638]}]}, \"metricName\": null, \"primaryMetricName\": \"accuracy\", \"showLegend\": false}, \"run_metrics\": [{\"name\": \"experiment_status\", \"run_id\": \"AutoML_ebf3bd15-bb5a-4275-86d9-00e01bd94c8e\", \"categories\": [0, 1, 2, 3, 4, 5, 6, 7, 8, 9, 10, 11, 12, 13], \"series\": [{\"data\": [\"DatasetEvaluation\", \"FeaturesGeneration\", \"DatasetFeaturization\", \"DatasetFeaturizationCompleted\", \"DatasetCrossValidationSplit\", \"ModelSelection\", \"BestRunExplainModel\", \"ModelExplanationDataSetSetup\", \"PickSurrogateModel\", \"EngineeredFeatureExplanations\", \"EngineeredFeatureExplanations\", \"RawFeaturesExplanations\", \"RawFeaturesExplanations\", \"BestRunExplainModel\"]}]}, {\"name\": \"experiment_status_description\", \"run_id\": \"AutoML_ebf3bd15-bb5a-4275-86d9-00e01bd94c8e\", \"categories\": [0, 1, 2, 3, 4, 5, 6, 7, 8, 9, 10, 11, 12, 13], \"series\": [{\"data\": [\"Gathering dataset statistics.\", \"Generating features for the dataset.\", \"Beginning to fit featurizers and featurize the dataset.\", \"Completed fit featurizers and featurizing the dataset.\", \"Generating individually featurized CV splits.\", \"Beginning model selection.\", \"Best run model explanations started\", \"Model explanations data setup completed\", \"Choosing LightGBM as the surrogate model for explanations\", \"Computation of engineered features started\", \"Computation of engineered features completed\", \"Computation of raw features started\", \"Computation of raw features completed\", \"Best run model explanations completed\"]}]}, {\"name\": \"f1_score_micro\", \"run_id\": \"AutoML_ebf3bd15-bb5a-4275-86d9-00e01bd94c8e\", \"categories\": [0], \"series\": [{\"data\": [0.806332924194067]}]}, {\"name\": \"matthews_correlation\", \"run_id\": \"AutoML_ebf3bd15-bb5a-4275-86d9-00e01bd94c8e\", \"categories\": [0], \"series\": [{\"data\": [0.47587648813320743]}]}, {\"name\": \"AUC_macro\", \"run_id\": \"AutoML_ebf3bd15-bb5a-4275-86d9-00e01bd94c8e\", \"categories\": [0], \"series\": [{\"data\": [0.8457764927526638]}]}, {\"name\": \"f1_score_macro\", \"run_id\": \"AutoML_ebf3bd15-bb5a-4275-86d9-00e01bd94c8e\", \"categories\": [0], \"series\": [{\"data\": [0.7346304075371126]}]}, {\"name\": \"recall_score_micro\", \"run_id\": \"AutoML_ebf3bd15-bb5a-4275-86d9-00e01bd94c8e\", \"categories\": [0], \"series\": [{\"data\": [0.806332924194067]}]}, {\"name\": \"average_precision_score_weighted\", \"run_id\": \"AutoML_ebf3bd15-bb5a-4275-86d9-00e01bd94c8e\", \"categories\": [0], \"series\": [{\"data\": [0.8630627705917088]}]}, {\"name\": \"precision_score_macro\", \"run_id\": \"AutoML_ebf3bd15-bb5a-4275-86d9-00e01bd94c8e\", \"categories\": [0], \"series\": [{\"data\": [0.7557636201223872]}]}, {\"name\": \"log_loss\", \"run_id\": \"AutoML_ebf3bd15-bb5a-4275-86d9-00e01bd94c8e\", \"categories\": [0], \"series\": [{\"data\": [0.41585176686389275]}]}, {\"name\": \"precision_score_weighted\", \"run_id\": \"AutoML_ebf3bd15-bb5a-4275-86d9-00e01bd94c8e\", \"categories\": [0], \"series\": [{\"data\": [0.7975167042252641]}]}, {\"name\": \"average_precision_score_micro\", \"run_id\": \"AutoML_ebf3bd15-bb5a-4275-86d9-00e01bd94c8e\", \"categories\": [0], \"series\": [{\"data\": [0.890709125910217]}]}, {\"name\": \"weighted_accuracy\", \"run_id\": \"AutoML_ebf3bd15-bb5a-4275-86d9-00e01bd94c8e\", \"categories\": [0], \"series\": [{\"data\": [0.8606217090454594]}]}, {\"name\": \"AUC_micro\", \"run_id\": \"AutoML_ebf3bd15-bb5a-4275-86d9-00e01bd94c8e\", \"categories\": [0], \"series\": [{\"data\": [0.8903040006188849]}]}, {\"name\": \"average_precision_score_macro\", \"run_id\": \"AutoML_ebf3bd15-bb5a-4275-86d9-00e01bd94c8e\", \"categories\": [0], \"series\": [{\"data\": [0.799248532925596]}]}, {\"name\": \"balanced_accuracy\", \"run_id\": \"AutoML_ebf3bd15-bb5a-4275-86d9-00e01bd94c8e\", \"categories\": [0], \"series\": [{\"data\": [0.7213947760198094]}]}, {\"name\": \"accuracy\", \"run_id\": \"AutoML_ebf3bd15-bb5a-4275-86d9-00e01bd94c8e\", \"categories\": [0], \"series\": [{\"data\": [0.806332924194067]}]}, {\"name\": \"recall_score_macro\", \"run_id\": \"AutoML_ebf3bd15-bb5a-4275-86d9-00e01bd94c8e\", \"categories\": [0], \"series\": [{\"data\": [0.7213947760198094]}]}, {\"name\": \"AUC_weighted\", \"run_id\": \"AutoML_ebf3bd15-bb5a-4275-86d9-00e01bd94c8e\", \"categories\": [0], \"series\": [{\"data\": [0.8457764550980652]}]}, {\"name\": \"precision_score_micro\", \"run_id\": \"AutoML_ebf3bd15-bb5a-4275-86d9-00e01bd94c8e\", \"categories\": [0], \"series\": [{\"data\": [0.806332924194067]}]}, {\"name\": \"f1_score_weighted\", \"run_id\": \"AutoML_ebf3bd15-bb5a-4275-86d9-00e01bd94c8e\", \"categories\": [0], \"series\": [{\"data\": [0.799346087766676]}]}, {\"name\": \"recall_score_weighted\", \"run_id\": \"AutoML_ebf3bd15-bb5a-4275-86d9-00e01bd94c8e\", \"categories\": [0], \"series\": [{\"data\": [0.806332924194067]}]}, {\"name\": \"norm_macro_recall\", \"run_id\": \"AutoML_ebf3bd15-bb5a-4275-86d9-00e01bd94c8e\", \"categories\": [0], \"series\": [{\"data\": [0.44278955203961873]}]}], \"run_logs\": \"\\nRun is completed.\", \"graph\": {}, \"widget_settings\": {\"childWidgetDisplay\": \"popup\", \"send_telemetry\": false, \"log_level\": \"INFO\", \"sdk_version\": \"1.26.0\"}, \"loading\": false}"
          },
          "metadata": {}
        }
      ],
      "execution_count": 12,
      "metadata": {
        "collapsed": true,
        "jupyter": {
          "source_hidden": false,
          "outputs_hidden": false
        },
        "nteract": {
          "transient": {
            "deleting": false
          }
        },
        "gather": {
          "logged": 1618741846666
        }
      }
    },
    {
      "cell_type": "markdown",
      "source": [
        "## Best Model\n",
        "\n",
        "TODO: In the cell below, get the best model from the automl experiments and display all the properties of the model.\n",
        "\n"
      ],
      "metadata": {}
    },
    {
      "cell_type": "code",
      "source": [
        "from azureml.core.run import Run\n",
        "\n",
        "# Get the best run object\n",
        "best_run, fitted_model = remote_run.get_output()\n",
        "print(best_run)\n",
        "print(fitted_model)\n",
        "best_run.get_tags()\n",
        "print(best_run.properties['model_name'])"
      ],
      "outputs": [
        {
          "output_type": "stream",
          "name": "stdout",
          "text": [
            "Run(Experiment: ChurnPrediction,\n",
            "Id: AutoML_ebf3bd15-bb5a-4275-86d9-00e01bd94c8e_1,\n",
            "Type: azureml.scriptrun,\n",
            "Status: Completed)\n",
            "Pipeline(memory=None,\n",
            "         steps=[('datatransformer',\n",
            "                 DataTransformer(enable_dnn=None, enable_feature_sweeping=None,\n",
            "                                 feature_sweeping_config=None,\n",
            "                                 feature_sweeping_timeout=None,\n",
            "                                 featurization_config=None, force_text_dnn=None,\n",
            "                                 is_cross_validation=None,\n",
            "                                 is_onnx_compatible=None, logger=None,\n",
            "                                 observer=None, task=None, working_dir=None)),\n",
            "                ('MaxAbsScaler', MaxAbsScaler(copy...\n",
            "                                   colsample_bylevel=1, colsample_bynode=1,\n",
            "                                   colsample_bytree=1, gamma=0,\n",
            "                                   learning_rate=0.1, max_delta_step=0,\n",
            "                                   max_depth=3, min_child_weight=1, missing=nan,\n",
            "                                   n_estimators=100, n_jobs=1, nthread=None,\n",
            "                                   objective='binary:logistic', random_state=0,\n",
            "                                   reg_alpha=0, reg_lambda=1,\n",
            "                                   scale_pos_weight=1, seed=None, silent=None,\n",
            "                                   subsample=1, tree_method='auto', verbose=-10,\n",
            "                                   verbosity=0))],\n",
            "         verbose=False)\n",
            "Y_transformer(['LabelEncoder', LabelEncoder()])\n",
            "AutoMLebf3bd15b1\n"
          ]
        }
      ],
      "execution_count": 13,
      "metadata": {
        "gather": {
          "logged": 1618741854535
        },
        "jupyter": {
          "outputs_hidden": false,
          "source_hidden": false
        },
        "nteract": {
          "transient": {
            "deleting": false
          }
        }
      }
    },
    {
      "cell_type": "code",
      "source": [
        "#TODO: Save the best model\n",
        "import joblib\n",
        "os.makedirs('outputs', exist_ok = True)\n",
        "joblib.dump(fitted_model, 'outputs/fitted_model.joblib')"
      ],
      "outputs": [
        {
          "output_type": "execute_result",
          "execution_count": 14,
          "data": {
            "text/plain": "['outputs/fitted_model.joblib']",
            "text/html": "['outputs/fitted_model.joblib']"
          },
          "metadata": {}
        }
      ],
      "execution_count": 14,
      "metadata": {
        "gather": {
          "logged": 1618741854792
        },
        "jupyter": {
          "outputs_hidden": false,
          "source_hidden": false
        },
        "nteract": {
          "transient": {
            "deleting": false
          }
        }
      }
    },
    {
      "cell_type": "markdown",
      "source": [
        "## Model Deployment\n",
        "\n",
        "Remember you have to deploy only one of the two models you trained.. Perform the steps in the rest of this notebook only if you wish to deploy this model.\n",
        "\n",
        "TODO: In the cell below, register the model, create an inference config and deploy the model as a web service."
      ],
      "metadata": {}
    },
    {
      "cell_type": "code",
      "source": [
        "best_run, fitted_model = remote_run.get_output()\n",
        "model_name = best_run.properties['model_name']\n",
        "\n",
        "script_file_name = './score.py'\n",
        "\n",
        "best_run.download_file('outputs/scoring_file_v_1_0_0.py', './score.py')"
      ],
      "outputs": [],
      "execution_count": 15,
      "metadata": {
        "gather": {
          "logged": 1618741857260
        },
        "jupyter": {
          "outputs_hidden": false,
          "source_hidden": false
        },
        "nteract": {
          "transient": {
            "deleting": false
          }
        }
      }
    },
    {
      "cell_type": "code",
      "source": [
        "description = 'AutoML Model trained on Churn dataset to predict if a customer has churned or not.'\n",
        "tags = None\n",
        "model = remote_run.register_model(model_name = model_name, description = description, tags = tags)\n",
        "\n",
        "print(remote_run.model_id)"
      ],
      "outputs": [
        {
          "output_type": "stream",
          "name": "stdout",
          "text": [
            "AutoMLebf3bd15b1\n"
          ]
        }
      ],
      "execution_count": 16,
      "metadata": {
        "gather": {
          "logged": 1618741857458
        }
      }
    },
    {
      "cell_type": "markdown",
      "source": [
        "TODO: In the cell below, send a request to the web service you deployed to test it."
      ],
      "metadata": {
        "collapsed": true,
        "gather": {
          "logged": 1598431657736
        },
        "jupyter": {
          "outputs_hidden": false,
          "source_hidden": false
        },
        "nteract": {
          "transient": {
            "deleting": false
          }
        }
      }
    },
    {
      "cell_type": "code",
      "source": [
        "\r\n",
        "# Download scoring file \r\n",
        "best_run.download_file('outputs/scoring_file_v_1_0_0.py', 'score.py')\r\n",
        "\r\n",
        "# Download environment file\r\n",
        "best_run.download_file('outputs/conda_env_v_1_0_0.yml', 'env.yml')"
      ],
      "outputs": [],
      "execution_count": 19,
      "metadata": {
        "collapsed": true,
        "jupyter": {
          "source_hidden": false,
          "outputs_hidden": false
        },
        "nteract": {
          "transient": {
            "deleting": false
          }
        },
        "gather": {
          "logged": 1618742307847
        }
      }
    },
    {
      "cell_type": "code",
      "source": [
        "aciconfig = AciWebservice.deploy_configuration(cpu_cores=1, \r\n",
        "                                               memory_gb=1, \r\n",
        "                                               description='Churn prediction with AutoML')"
      ],
      "outputs": [],
      "execution_count": 20,
      "metadata": {
        "collapsed": true,
        "jupyter": {
          "source_hidden": false,
          "outputs_hidden": false
        },
        "nteract": {
          "transient": {
            "deleting": false
          }
        },
        "gather": {
          "logged": 1618742338876
        }
      }
    },
    {
      "cell_type": "code",
      "source": [
        "inference_config = InferenceConfig(entry_script=\"score.py\", environment=best_run.get_environment())\r\n",
        "\r\n",
        "service = Model.deploy(workspace=ws, \r\n",
        "                       name='automl-webservice', \r\n",
        "                       models=[model], \r\n",
        "                       inference_config=inference_config, \r\n",
        "                       deployment_config=aciconfig)\r\n"
      ],
      "outputs": [],
      "execution_count": 24,
      "metadata": {
        "collapsed": true,
        "jupyter": {
          "source_hidden": false,
          "outputs_hidden": false
        },
        "nteract": {
          "transient": {
            "deleting": false
          }
        },
        "gather": {
          "logged": 1618742691595
        }
      }
    },
    {
      "cell_type": "code",
      "source": [
        "service.wait_for_deployment(show_output=True)"
      ],
      "outputs": [
        {
          "output_type": "stream",
          "name": "stdout",
          "text": [
            "Tips: You can try get_logs(): https://aka.ms/debugimage#dockerlog or local deployment: https://aka.ms/debugimage#debug-locally to debug if deployment takes longer than 10 minutes.\n",
            "Running\n",
            "2021-04-18 10:44:50+00:00 Creating Container Registry if not exists.\n",
            "2021-04-18 10:44:51+00:00 Registering the environment.\n",
            "2021-04-18 10:44:51+00:00 Use the existing image.\n",
            "2021-04-18 10:44:51+00:00 Generating deployment configuration.\n",
            "2021-04-18 10:44:52+00:00 Submitting deployment to compute.\n",
            "2021-04-18 10:44:55+00:00 Checking the status of deployment automl-webservice..\n",
            "2021-04-18 10:49:21+00:00 Checking the status of inference endpoint automl-webservice.\n",
            "Succeeded\n",
            "ACI service creation operation finished, operation \"Succeeded\"\n"
          ]
        },
        {
          "output_type": "execute_result",
          "execution_count": 26,
          "data": {
            "text/plain": "\"\\nenv = best_run.get_environment()    \\n\\ninference_config = InferenceConfig(entry_script=script,environment=env)\\n\\ndeploy_config =AciWebservice.deploy_configuration(cpu_cores = 1, \\n                                               memory_gb = 1,\\n                                               enable_app_insights=True,\\n                                               auth_enabled=True,\\n                                                 )\\n\\naci_service_name = 'ChurnPrediction'\\nprint(aci_service_name)\\naci_service = Model.deploy(ws, aci_service_name, [model], inference_config, aciconfig)\\naci_service.wait_for_deployment(True)\\nprint(aci_service.state)\""
          },
          "metadata": {}
        }
      ],
      "execution_count": 26,
      "metadata": {
        "gather": {
          "logged": 1618742965378
        }
      }
    },
    {
      "cell_type": "code",
      "source": [
        "service.wait_for_deployment(show_output=True)\n",
        "service.update(enable_app_insights = True)\n",
        "print(\"State : \"+service.state)\n",
        "print(\"Key \" + service.get_keys()[0])\n",
        "print(\"Swagger URI : \"+service.swagger_uri)\n",
        "print(\"Scoring URI : \"+service.scoring_uri)"
      ],
      "outputs": [
        {
          "output_type": "stream",
          "name": "stdout",
          "text": [
            "Tips: You can try get_logs(): https://aka.ms/debugimage#dockerlog or local deployment: https://aka.ms/debugimage#debug-locally to debug if deployment takes longer than 10 minutes.\n",
            "SucceededACI service creation operation finished, operation \"Succeeded\"\n",
            "State : Healthy\n"
          ]
        },
        {
          "output_type": "stream",
          "name": "stderr",
          "text": [
            "ERROR:azureml.core.webservice.webservice:Received bad response from Model Management Service:\n",
            "Response Code: 400\n",
            "Headers: {'Date': 'Sun, 18 Apr 2021 10:49:27 GMT', 'Content-Type': 'application/json', 'Transfer-Encoding': 'chunked', 'Connection': 'keep-alive', 'x-ms-client-request-id': '3aeec8be-e2d3-4922-a8d6-13caaeda0851', 'x-ms-client-session-id': 'a6df439a-80ef-482d-a151-73194ce097f5', 'api-supported-versions': '1.0, 2018-03-01-preview, 2018-11-19', 'Strict-Transport-Security': 'max-age=15724800; includeSubDomains; preload', 'X-Content-Type-Options': 'nosniff', 'x-request-time': '0.095'}\n",
            "Content: b'{\"code\":\"BadRequest\",\"statusCode\":400,\"message\":\"The request is invalid.\",\"details\":[{\"code\":\"AuthDisabled\",\"message\":\"Authentication is disabled (authEnabled set to false). Enable service authentication to list/regenerate keys. Subscription: 1b944a9b-fdae-4f97-aeb1-b7eea0beac53, ResourceGroup: aml-quickstarts-143004, Workspace: quick-starts-ws-143004, ACR: /subscriptions/1b944a9b-fdae-4f97-aeb1-b7eea0beac53/resourceGroups/aml-quickstarts-143004/providers/Microsoft.ContainerRegistry/registries/85e4392aecc5459f90f19f8ecb59a931\"}],\"correlation\":{\"RequestId\":\"3aeec8be-e2d3-4922-a8d6-13caaeda0851\"}}'\n",
            "\n"
          ]
        },
        {
          "output_type": "error",
          "ename": "WebserviceException",
          "evalue": "WebserviceException:\n\tMessage: Received bad response from Model Management Service:\nResponse Code: 400\nHeaders: {'Date': 'Sun, 18 Apr 2021 10:49:27 GMT', 'Content-Type': 'application/json', 'Transfer-Encoding': 'chunked', 'Connection': 'keep-alive', 'x-ms-client-request-id': '3aeec8be-e2d3-4922-a8d6-13caaeda0851', 'x-ms-client-session-id': 'a6df439a-80ef-482d-a151-73194ce097f5', 'api-supported-versions': '1.0, 2018-03-01-preview, 2018-11-19', 'Strict-Transport-Security': 'max-age=15724800; includeSubDomains; preload', 'X-Content-Type-Options': 'nosniff', 'x-request-time': '0.095'}\nContent: b'{\"code\":\"BadRequest\",\"statusCode\":400,\"message\":\"The request is invalid.\",\"details\":[{\"code\":\"AuthDisabled\",\"message\":\"Authentication is disabled (authEnabled set to false). Enable service authentication to list/regenerate keys. Subscription: 1b944a9b-fdae-4f97-aeb1-b7eea0beac53, ResourceGroup: aml-quickstarts-143004, Workspace: quick-starts-ws-143004, ACR: /subscriptions/1b944a9b-fdae-4f97-aeb1-b7eea0beac53/resourceGroups/aml-quickstarts-143004/providers/Microsoft.ContainerRegistry/registries/85e4392aecc5459f90f19f8ecb59a931\"}],\"correlation\":{\"RequestId\":\"3aeec8be-e2d3-4922-a8d6-13caaeda0851\"}}'\n\tInnerException None\n\tErrorResponse \n{\n    \"error\": {\n        \"message\": \"Received bad response from Model Management Service:\\nResponse Code: 400\\nHeaders: {'Date': 'Sun, 18 Apr 2021 10:49:27 GMT', 'Content-Type': 'application/json', 'Transfer-Encoding': 'chunked', 'Connection': 'keep-alive', 'x-ms-client-request-id': '3aeec8be-e2d3-4922-a8d6-13caaeda0851', 'x-ms-client-session-id': 'a6df439a-80ef-482d-a151-73194ce097f5', 'api-supported-versions': '1.0, 2018-03-01-preview, 2018-11-19', 'Strict-Transport-Security': 'max-age=15724800; includeSubDomains; preload', 'X-Content-Type-Options': 'nosniff', 'x-request-time': '0.095'}\\nContent: b'{\\\"code\\\":\\\"BadRequest\\\",\\\"statusCode\\\":400,\\\"message\\\":\\\"The request is invalid.\\\",\\\"details\\\":[{\\\"code\\\":\\\"AuthDisabled\\\",\\\"message\\\":\\\"Authentication is disabled (authEnabled set to false). Enable service authentication to list/regenerate keys. Subscription: 1b944a9b-fdae-4f97-aeb1-b7eea0beac53, ResourceGroup: aml-quickstarts-143004, Workspace: quick-starts-ws-143004, ACR: /subscriptions/1b944a9b-fdae-4f97-aeb1-b7eea0beac53/resourceGroups/aml-quickstarts-143004/providers/Microsoft.ContainerRegistry/registries/85e4392aecc5459f90f19f8ecb59a931\\\"}],\\\"correlation\\\":{\\\"RequestId\\\":\\\"3aeec8be-e2d3-4922-a8d6-13caaeda0851\\\"}}'\"\n    }\n}",
          "traceback": [
            "\u001b[0;31m---------------------------------------------------------------------------\u001b[0m",
            "\u001b[0;31mHTTPError\u001b[0m                                 Traceback (most recent call last)",
            "\u001b[0;32m/anaconda/envs/azureml_py36/lib/python3.6/site-packages/azureml/core/webservice/webservice.py\u001b[0m in \u001b[0;36mget_keys\u001b[0;34m(self)\u001b[0m\n\u001b[1;32m   1281\u001b[0m             \u001b[0mresp\u001b[0m \u001b[0;34m=\u001b[0m \u001b[0mClientBase\u001b[0m\u001b[0;34m.\u001b[0m\u001b[0m_execute_func\u001b[0m\u001b[0;34m(\u001b[0m\u001b[0mget_requests_session\u001b[0m\u001b[0;34m(\u001b[0m\u001b[0;34m)\u001b[0m\u001b[0;34m.\u001b[0m\u001b[0mpost\u001b[0m\u001b[0;34m,\u001b[0m \u001b[0mlist_keys_url\u001b[0m\u001b[0;34m,\u001b[0m \u001b[0mparams\u001b[0m\u001b[0;34m=\u001b[0m\u001b[0mparams\u001b[0m\u001b[0;34m,\u001b[0m \u001b[0mheaders\u001b[0m\u001b[0;34m=\u001b[0m\u001b[0mheaders\u001b[0m\u001b[0;34m)\u001b[0m\u001b[0;34m\u001b[0m\u001b[0;34m\u001b[0m\u001b[0m\n\u001b[0;32m-> 1282\u001b[0;31m             \u001b[0mresp\u001b[0m\u001b[0;34m.\u001b[0m\u001b[0mraise_for_status\u001b[0m\u001b[0;34m(\u001b[0m\u001b[0;34m)\u001b[0m\u001b[0;34m\u001b[0m\u001b[0;34m\u001b[0m\u001b[0m\n\u001b[0m\u001b[1;32m   1283\u001b[0m         \u001b[0;32mexcept\u001b[0m \u001b[0mrequests\u001b[0m\u001b[0;34m.\u001b[0m\u001b[0mexceptions\u001b[0m\u001b[0;34m.\u001b[0m\u001b[0mHTTPError\u001b[0m\u001b[0;34m:\u001b[0m\u001b[0;34m\u001b[0m\u001b[0;34m\u001b[0m\u001b[0m\n",
            "\u001b[0;32m/anaconda/envs/azureml_py36/lib/python3.6/site-packages/requests/models.py\u001b[0m in \u001b[0;36mraise_for_status\u001b[0;34m(self)\u001b[0m\n\u001b[1;32m    942\u001b[0m         \u001b[0;32mif\u001b[0m \u001b[0mhttp_error_msg\u001b[0m\u001b[0;34m:\u001b[0m\u001b[0;34m\u001b[0m\u001b[0;34m\u001b[0m\u001b[0m\n\u001b[0;32m--> 943\u001b[0;31m             \u001b[0;32mraise\u001b[0m \u001b[0mHTTPError\u001b[0m\u001b[0;34m(\u001b[0m\u001b[0mhttp_error_msg\u001b[0m\u001b[0;34m,\u001b[0m \u001b[0mresponse\u001b[0m\u001b[0;34m=\u001b[0m\u001b[0mself\u001b[0m\u001b[0;34m)\u001b[0m\u001b[0;34m\u001b[0m\u001b[0;34m\u001b[0m\u001b[0m\n\u001b[0m\u001b[1;32m    944\u001b[0m \u001b[0;34m\u001b[0m\u001b[0m\n",
            "\u001b[0;31mHTTPError\u001b[0m: 400 Client Error: Bad Request for url: https://southcentralus.modelmanagement.azureml.net/modelmanagement/v1.0/subscriptions/1b944a9b-fdae-4f97-aeb1-b7eea0beac53/resourceGroups/aml-quickstarts-143004/providers/Microsoft.MachineLearningServices/workspaces/quick-starts-ws-143004/services/automl-webservice/listkeys",
            "\nDuring handling of the above exception, another exception occurred:\n",
            "\u001b[0;31mWebserviceException\u001b[0m                       Traceback (most recent call last)",
            "\u001b[0;32m<ipython-input-27-49b17ca8e30f>\u001b[0m in \u001b[0;36m<module>\u001b[0;34m\u001b[0m\n\u001b[1;32m      2\u001b[0m \u001b[0mservice\u001b[0m\u001b[0;34m.\u001b[0m\u001b[0mupdate\u001b[0m\u001b[0;34m(\u001b[0m\u001b[0menable_app_insights\u001b[0m \u001b[0;34m=\u001b[0m \u001b[0;32mTrue\u001b[0m\u001b[0;34m)\u001b[0m\u001b[0;34m\u001b[0m\u001b[0;34m\u001b[0m\u001b[0m\n\u001b[1;32m      3\u001b[0m \u001b[0mprint\u001b[0m\u001b[0;34m(\u001b[0m\u001b[0;34m\"State : \"\u001b[0m\u001b[0;34m+\u001b[0m\u001b[0mservice\u001b[0m\u001b[0;34m.\u001b[0m\u001b[0mstate\u001b[0m\u001b[0;34m)\u001b[0m\u001b[0;34m\u001b[0m\u001b[0;34m\u001b[0m\u001b[0m\n\u001b[0;32m----> 4\u001b[0;31m \u001b[0mprint\u001b[0m\u001b[0;34m(\u001b[0m\u001b[0;34m\"Key \"\u001b[0m \u001b[0;34m+\u001b[0m \u001b[0mservice\u001b[0m\u001b[0;34m.\u001b[0m\u001b[0mget_keys\u001b[0m\u001b[0;34m(\u001b[0m\u001b[0;34m)\u001b[0m\u001b[0;34m[\u001b[0m\u001b[0;36m0\u001b[0m\u001b[0;34m]\u001b[0m\u001b[0;34m)\u001b[0m\u001b[0;34m\u001b[0m\u001b[0;34m\u001b[0m\u001b[0m\n\u001b[0m\u001b[1;32m      5\u001b[0m \u001b[0mprint\u001b[0m\u001b[0;34m(\u001b[0m\u001b[0;34m\"Swagger URI : \"\u001b[0m\u001b[0;34m+\u001b[0m\u001b[0mservice\u001b[0m\u001b[0;34m.\u001b[0m\u001b[0mswagger_uri\u001b[0m\u001b[0;34m)\u001b[0m\u001b[0;34m\u001b[0m\u001b[0;34m\u001b[0m\u001b[0m\n\u001b[1;32m      6\u001b[0m \u001b[0mprint\u001b[0m\u001b[0;34m(\u001b[0m\u001b[0;34m\"Scoring URI : \"\u001b[0m\u001b[0;34m+\u001b[0m\u001b[0mservice\u001b[0m\u001b[0;34m.\u001b[0m\u001b[0mscoring_uri\u001b[0m\u001b[0;34m)\u001b[0m\u001b[0;34m\u001b[0m\u001b[0;34m\u001b[0m\u001b[0m\n",
            "\u001b[0;32m/anaconda/envs/azureml_py36/lib/python3.6/site-packages/azureml/core/webservice/webservice.py\u001b[0m in \u001b[0;36mget_keys\u001b[0;34m(self)\u001b[0m\n\u001b[1;32m   1286\u001b[0m                                       \u001b[0;34m'Headers: {}\\n'\u001b[0m\u001b[0;34m\u001b[0m\u001b[0;34m\u001b[0m\u001b[0m\n\u001b[1;32m   1287\u001b[0m                                       \u001b[0;34m'Content: {}'\u001b[0m\u001b[0;34m.\u001b[0m\u001b[0mformat\u001b[0m\u001b[0;34m(\u001b[0m\u001b[0mresp\u001b[0m\u001b[0;34m.\u001b[0m\u001b[0mstatus_code\u001b[0m\u001b[0;34m,\u001b[0m \u001b[0mresp\u001b[0m\u001b[0;34m.\u001b[0m\u001b[0mheaders\u001b[0m\u001b[0;34m,\u001b[0m \u001b[0mresp\u001b[0m\u001b[0;34m.\u001b[0m\u001b[0mcontent\u001b[0m\u001b[0;34m)\u001b[0m\u001b[0;34m,\u001b[0m\u001b[0;34m\u001b[0m\u001b[0;34m\u001b[0m\u001b[0m\n\u001b[0;32m-> 1288\u001b[0;31m                                       logger=module_logger)\n\u001b[0m\u001b[1;32m   1289\u001b[0m \u001b[0;34m\u001b[0m\u001b[0m\n\u001b[1;32m   1290\u001b[0m         \u001b[0mcontent\u001b[0m \u001b[0;34m=\u001b[0m \u001b[0mresp\u001b[0m\u001b[0;34m.\u001b[0m\u001b[0mcontent\u001b[0m\u001b[0;34m\u001b[0m\u001b[0;34m\u001b[0m\u001b[0m\n",
            "\u001b[0;31mWebserviceException\u001b[0m: WebserviceException:\n\tMessage: Received bad response from Model Management Service:\nResponse Code: 400\nHeaders: {'Date': 'Sun, 18 Apr 2021 10:49:27 GMT', 'Content-Type': 'application/json', 'Transfer-Encoding': 'chunked', 'Connection': 'keep-alive', 'x-ms-client-request-id': '3aeec8be-e2d3-4922-a8d6-13caaeda0851', 'x-ms-client-session-id': 'a6df439a-80ef-482d-a151-73194ce097f5', 'api-supported-versions': '1.0, 2018-03-01-preview, 2018-11-19', 'Strict-Transport-Security': 'max-age=15724800; includeSubDomains; preload', 'X-Content-Type-Options': 'nosniff', 'x-request-time': '0.095'}\nContent: b'{\"code\":\"BadRequest\",\"statusCode\":400,\"message\":\"The request is invalid.\",\"details\":[{\"code\":\"AuthDisabled\",\"message\":\"Authentication is disabled (authEnabled set to false). Enable service authentication to list/regenerate keys. Subscription: 1b944a9b-fdae-4f97-aeb1-b7eea0beac53, ResourceGroup: aml-quickstarts-143004, Workspace: quick-starts-ws-143004, ACR: /subscriptions/1b944a9b-fdae-4f97-aeb1-b7eea0beac53/resourceGroups/aml-quickstarts-143004/providers/Microsoft.ContainerRegistry/registries/85e4392aecc5459f90f19f8ecb59a931\"}],\"correlation\":{\"RequestId\":\"3aeec8be-e2d3-4922-a8d6-13caaeda0851\"}}'\n\tInnerException None\n\tErrorResponse \n{\n    \"error\": {\n        \"message\": \"Received bad response from Model Management Service:\\nResponse Code: 400\\nHeaders: {'Date': 'Sun, 18 Apr 2021 10:49:27 GMT', 'Content-Type': 'application/json', 'Transfer-Encoding': 'chunked', 'Connection': 'keep-alive', 'x-ms-client-request-id': '3aeec8be-e2d3-4922-a8d6-13caaeda0851', 'x-ms-client-session-id': 'a6df439a-80ef-482d-a151-73194ce097f5', 'api-supported-versions': '1.0, 2018-03-01-preview, 2018-11-19', 'Strict-Transport-Security': 'max-age=15724800; includeSubDomains; preload', 'X-Content-Type-Options': 'nosniff', 'x-request-time': '0.095'}\\nContent: b'{\\\"code\\\":\\\"BadRequest\\\",\\\"statusCode\\\":400,\\\"message\\\":\\\"The request is invalid.\\\",\\\"details\\\":[{\\\"code\\\":\\\"AuthDisabled\\\",\\\"message\\\":\\\"Authentication is disabled (authEnabled set to false). Enable service authentication to list/regenerate keys. Subscription: 1b944a9b-fdae-4f97-aeb1-b7eea0beac53, ResourceGroup: aml-quickstarts-143004, Workspace: quick-starts-ws-143004, ACR: /subscriptions/1b944a9b-fdae-4f97-aeb1-b7eea0beac53/resourceGroups/aml-quickstarts-143004/providers/Microsoft.ContainerRegistry/registries/85e4392aecc5459f90f19f8ecb59a931\\\"}],\\\"correlation\\\":{\\\"RequestId\\\":\\\"3aeec8be-e2d3-4922-a8d6-13caaeda0851\\\"}}'\"\n    }\n}"
          ]
        }
      ],
      "execution_count": 27,
      "metadata": {}
    },
    {
      "cell_type": "code",
      "source": [
        "test_df = df.sample(4) # sample data from original dataset\r\n",
        "label_df = test_df.pop('Churn')\r\n",
        "\r\n",
        "test_sample = json.dumps({'data': test_df.to_dict(orient='records')})\r\n",
        "\r\n",
        "print(test_sample)"
      ],
      "outputs": [
        {
          "output_type": "stream",
          "name": "stdout",
          "text": [
            "{\"data\": [{\"customerID\": \"3496-LFSZU\", \"gender\": \"Male\", \"SeniorCitizen\": 0, \"Partner\": true, \"Dependents\": false, \"tenure\": 4, \"PhoneService\": true, \"MultipleLines\": \"No\", \"InternetService\": \"Fiber optic\", \"OnlineSecurity\": \"No\", \"OnlineBackup\": \"No\", \"DeviceProtection\": \"No\", \"TechSupport\": \"No\", \"StreamingTV\": \"No\", \"StreamingMovies\": \"No\", \"Contract\": \"Month-to-month\", \"PaperlessBilling\": false, \"PaymentMethod\": \"Electronic check\", \"MonthlyCharges\": 70.5, \"TotalCharges\": 294.2}, {\"customerID\": \"1905-OEILC\", \"gender\": \"Female\", \"SeniorCitizen\": 0, \"Partner\": false, \"Dependents\": false, \"tenure\": 1, \"PhoneService\": true, \"MultipleLines\": \"No\", \"InternetService\": \"No\", \"OnlineSecurity\": \"No internet service\", \"OnlineBackup\": \"No internet service\", \"DeviceProtection\": \"No internet service\", \"TechSupport\": \"No internet service\", \"StreamingTV\": \"No internet service\", \"StreamingMovies\": \"No internet service\", \"Contract\": \"Month-to-month\", \"PaperlessBilling\": false, \"PaymentMethod\": \"Mailed check\", \"MonthlyCharges\": 19.5, \"TotalCharges\": 19.5}, {\"customerID\": \"2716-GFZOR\", \"gender\": \"Male\", \"SeniorCitizen\": 0, \"Partner\": true, \"Dependents\": false, \"tenure\": 43, \"PhoneService\": true, \"MultipleLines\": \"No\", \"InternetService\": \"Fiber optic\", \"OnlineSecurity\": \"Yes\", \"OnlineBackup\": \"Yes\", \"DeviceProtection\": \"Yes\", \"TechSupport\": \"No\", \"StreamingTV\": \"No\", \"StreamingMovies\": \"No\", \"Contract\": \"Month-to-month\", \"PaperlessBilling\": true, \"PaymentMethod\": \"Credit card (automatic)\", \"MonthlyCharges\": 86.1, \"TotalCharges\": 3551.65}, {\"customerID\": \"8807-ARQET\", \"gender\": \"Female\", \"SeniorCitizen\": 0, \"Partner\": false, \"Dependents\": false, \"tenure\": 41, \"PhoneService\": false, \"MultipleLines\": \"No phone service\", \"InternetService\": \"DSL\", \"OnlineSecurity\": \"No\", \"OnlineBackup\": \"Yes\", \"DeviceProtection\": \"No\", \"TechSupport\": \"No\", \"StreamingTV\": \"No\", \"StreamingMovies\": \"Yes\", \"Contract\": \"Month-to-month\", \"PaperlessBilling\": true, \"PaymentMethod\": \"Electronic check\", \"MonthlyCharges\": 40.35, \"TotalCharges\": 1677.85}]}\n"
          ]
        }
      ],
      "execution_count": 30,
      "metadata": {
        "collapsed": true,
        "jupyter": {
          "source_hidden": false,
          "outputs_hidden": false
        },
        "nteract": {
          "transient": {
            "deleting": false
          }
        },
        "gather": {
          "logged": 1618743278749
        }
      }
    },
    {
      "cell_type": "code",
      "source": [
        "scoring_uri = service.scoring_uri\r\n",
        "input_data = test_sample\r\n",
        "\r\n",
        "# Set the content type\r\n",
        "headers = {'Content-Type': 'application/json'}\r\n",
        "\r\n",
        "# Make the request and display the response\r\n",
        "resp = requests.post(scoring_uri, input_data, headers=headers)\r\n",
        "print(resp.text)"
      ],
      "outputs": [
        {
          "output_type": "stream",
          "name": "stdout",
          "text": [
            "\"{\\\"result\\\": [true, false, false, false]}\"\n"
          ]
        }
      ],
      "execution_count": 31,
      "metadata": {
        "collapsed": true,
        "jupyter": {
          "source_hidden": false,
          "outputs_hidden": false
        },
        "nteract": {
          "transient": {
            "deleting": false
          }
        },
        "gather": {
          "logged": 1618743327044
        }
      }
    },
    {
      "cell_type": "code",
      "source": [
        "print(service.get_logs())"
      ],
      "outputs": [
        {
          "output_type": "stream",
          "name": "stdout",
          "text": [
            "2021-04-18T10:53:54,609537400+00:00 - iot-server/run \n",
            "2021-04-18T10:53:54,613204600+00:00 - nginx/run \n",
            "/usr/sbin/nginx: /azureml-envs/azureml_8e5a5a51349877e7d47c6a2872e0ebfd/lib/libcrypto.so.1.0.0: no version information available (required by /usr/sbin/nginx)\n",
            "/usr/sbin/nginx: /azureml-envs/azureml_8e5a5a51349877e7d47c6a2872e0ebfd/lib/libcrypto.so.1.0.0: no version information available (required by /usr/sbin/nginx)\n",
            "/usr/sbin/nginx: /azureml-envs/azureml_8e5a5a51349877e7d47c6a2872e0ebfd/lib/libssl.so.1.0.0: no version information available (required by /usr/sbin/nginx)\n",
            "/usr/sbin/nginx: /azureml-envs/azureml_8e5a5a51349877e7d47c6a2872e0ebfd/lib/libssl.so.1.0.0: no version information available (required by /usr/sbin/nginx)\n",
            "/usr/sbin/nginx: /azureml-envs/azureml_8e5a5a51349877e7d47c6a2872e0ebfd/lib/libssl.so.1.0.0: no version information available (required by /usr/sbin/nginx)\n",
            "2021-04-18T10:53:54,631299800+00:00 - gunicorn/run \n",
            "2021-04-18T10:53:54,633077200+00:00 - rsyslog/run \n",
            "rsyslogd: /azureml-envs/azureml_8e5a5a51349877e7d47c6a2872e0ebfd/lib/libuuid.so.1: no version information available (required by rsyslogd)\n",
            "EdgeHubConnectionString and IOTEDGE_IOTHUBHOSTNAME are not set. Exiting...\n",
            "2021-04-18T10:53:54,932321000+00:00 - iot-server/finish 1 0\n",
            "2021-04-18T10:53:54,934270100+00:00 - Exit code 1 is normal. Not restarting iot-server.\n",
            "Starting gunicorn 19.9.0\n",
            "Listening at: http://127.0.0.1:31311 (69)\n",
            "Using worker: sync\n",
            "worker timeout is set to 300\n",
            "Booting worker with pid: 96\n",
            "SPARK_HOME not set. Skipping PySpark Initialization.\n",
            "Generating new fontManager, this may take some time...\n",
            "Initializing logger\n",
            "2021-04-18 10:53:57,708 | root | INFO | Starting up app insights client\n",
            "2021-04-18 10:53:57,708 | root | INFO | Starting up request id generator\n",
            "2021-04-18 10:53:57,708 | root | INFO | Starting up app insight hooks\n",
            "2021-04-18 10:53:57,712 | root | INFO | Invoking user's init function\n",
            "2021-04-18 10:54:02,795 | azureml.core | WARNING | Failure while loading azureml_run_type_providers. Failed to load entrypoint automl = azureml.train.automl.run:AutoMLRun._from_run_dto with exception cannot import name 'RunType'.\n",
            "Failure while loading azureml_run_type_providers. Failed to load entrypoint automl = azureml.train.automl.run:AutoMLRun._from_run_dto with exception cannot import name 'RunType'.\n",
            "2021-04-18 10:54:03,199 | root | INFO | Users's init has completed successfully\n",
            "2021-04-18 10:54:03,217 | root | INFO | Skipping middleware: dbg_model_info as it's not enabled.\n",
            "2021-04-18 10:54:03,218 | root | INFO | Skipping middleware: dbg_resource_usage as it's not enabled.\n",
            "2021-04-18 10:54:03,224 | root | INFO | Scoring timeout is found from os.environ: 60000 ms\n",
            "2021-04-18 10:55:26,457 | root | INFO | Validation Request Content-Type\n",
            "2021-04-18 10:55:26,462 | root | INFO | Scoring Timer is set to 60.0 seconds\n",
            "2021-04-18 10:55:26,655 | root | INFO | 200\n",
            "127.0.0.1 - - [18/Apr/2021:10:55:26 +0000] \"POST /score HTTP/1.0\" 200 43 \"-\" \"python-requests/2.25.1\"\n",
            "\n"
          ]
        }
      ],
      "execution_count": 32,
      "metadata": {
        "collapsed": true,
        "jupyter": {
          "source_hidden": false,
          "outputs_hidden": false
        },
        "nteract": {
          "transient": {
            "deleting": false
          }
        },
        "gather": {
          "logged": 1618743351414
        }
      }
    },
    {
      "cell_type": "markdown",
      "source": [
        "TODO: In the cell below, print the logs of the web service and delete the service"
      ],
      "metadata": {
        "collapsed": true,
        "gather": {
          "logged": 1598432765711
        },
        "jupyter": {
          "outputs_hidden": false,
          "source_hidden": false
        },
        "nteract": {
          "transient": {
            "deleting": false
          }
        }
      }
    },
    {
      "cell_type": "code",
      "source": [],
      "outputs": [],
      "execution_count": null,
      "metadata": {
        "collapsed": true,
        "jupyter": {
          "source_hidden": false,
          "outputs_hidden": false
        },
        "nteract": {
          "transient": {
            "deleting": false
          }
        }
      }
    }
  ],
  "metadata": {
    "kernel_info": {
      "name": "python3"
    },
    "kernelspec": {
      "name": "python3",
      "language": "python",
      "display_name": "Python 3"
    },
    "language_info": {
      "name": "python",
      "version": "3.6.9",
      "mimetype": "text/x-python",
      "codemirror_mode": {
        "name": "ipython",
        "version": 3
      },
      "pygments_lexer": "ipython3",
      "nbconvert_exporter": "python",
      "file_extension": ".py"
    },
    "nteract": {
      "version": "nteract-front-end@1.0.0"
    },
    "microsoft": {
      "host": {
        "AzureML": {
          "notebookHasBeenCompleted": true
        }
      }
    }
  },
  "nbformat": 4,
  "nbformat_minor": 2
}